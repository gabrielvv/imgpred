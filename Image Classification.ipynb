{
 "cells": [
  {
   "cell_type": "markdown",
   "metadata": {},
   "source": [
    "# Collecter les données"
   ]
  },
  {
   "cell_type": "code",
   "execution_count": null,
   "metadata": {},
   "outputs": [],
   "source": [
    "%%js\n",
    "// pull down jquery into the JavaScript console\n",
    "var script = document.createElement('script');\n",
    "script.src = \"https://ajax.googleapis.com/ajax/libs/jquery/2.2.0/jquery.min.js\";\n",
    "document.getElementsByTagName('head')[0].appendChild(script);\n",
    "\n",
    "// grab the URLs\n",
    "var urls = $('.rg_di .rg_meta').map(function() { return JSON.parse($(this).text()).ou; });\n",
    "\n",
    "// write the URls to file (one per line)\n",
    "var textToSave = urls.toArray().join('\\n');\n",
    "var hiddenElement = document.createElement('a');\n",
    "hiddenElement.href = 'data:attachment/text,' + encodeURI(textToSave);\n",
    "hiddenElement.target = '_blank';\n",
    "hiddenElement.download = 'google_urls.txt';\n",
    "hiddenElement.click();"
   ]
  },
  {
   "cell_type": "code",
   "execution_count": null,
   "metadata": {},
   "outputs": [],
   "source": [
    "from imutils import paths\n",
    "import requests\n",
    "import os\n",
    "\n",
    "def download_img(urls_path, output_path, prefix=\"img\"):\n",
    "    # grab the list of URLs from the input file, then initialize the\n",
    "    # total number of images downloaded thus far\n",
    "    rows = open(urls_path).read().strip().split(\"\\n\")\n",
    "    total = 0\n",
    "\n",
    "    # loop the URLs\n",
    "    for url in rows:\n",
    "        try:\n",
    "            # try to download the image\n",
    "            r = requests.get(url, timeout=60)\n",
    "\n",
    "            # save the image to disk\n",
    "            p = os.path.sep.join([output_path, \"{}.jpg\".format(\n",
    "                str(total).zfill(5))])\n",
    "            f = open(p, \"wb\") # binary format\n",
    "            f.write(r.content)\n",
    "            f.close()\n",
    "\n",
    "            # update the counter\n",
    "            print(\"[INFO] downloaded: {}\".format(p))\n",
    "            total += 1\n",
    "\n",
    "        # handle if any exceptions are thrown during the download process\n",
    "        except:\n",
    "            print(\"[INFO] error downloading {}...skipping\".format(p))\n",
    "            \n",
    "# download(\"google_urls.txt\", \"tmp_img/cat\", \"google\")"
   ]
  },
  {
   "cell_type": "code",
   "execution_count": null,
   "metadata": {},
   "outputs": [],
   "source": [
    "from imutils import paths\n",
    "import cv2\n",
    "import os\n",
    "\n",
    "def clean_imgs(directory_path):\n",
    "    # loop over the image paths we just downloaded\n",
    "    for image_path in paths.list_images(directory_path):\n",
    "        # initialize if the image should be deleted or not\n",
    "        delete = False\n",
    "\n",
    "        # try to load the image\n",
    "        try:\n",
    "            image = cv2.imread(image_path)\n",
    "\n",
    "            # if the image is `None` then we could not properly load it\n",
    "            # from disk, so delete it\n",
    "            if image is None:\n",
    "                delete = True\n",
    "\n",
    "        # if OpenCV cannot load the image then the image is likely\n",
    "        # corrupt so we should delete it\n",
    "        except:\n",
    "            print(\"Except\")\n",
    "            delete = True\n",
    "\n",
    "        # check to see if the image should be deleted\n",
    "        if delete:\n",
    "            print(\"[INFO] deleting {}\".format(image_path))\n",
    "            os.remove(image_path)\n",
    "            \n",
    "# clean_imgs(\"tmp_img/cat\")"
   ]
  },
  {
   "cell_type": "markdown",
   "metadata": {},
   "source": [
    "#### Cat\n",
    "\n",
    "| Source | Total |\n",
    "| --------------| -----------|\n",
    "| [google image](https://www.google.com/search?q=cat&source=lnms&tbm=isch&sa=X&ved=0ahUKEwi8oKaNw5jYAhWG8RQKHVfoD7kQ_AUICigB&biw=1920&bih=968) | 610 |\n",
    "| [imagenet](https://www.image-net.org/synset?wnid=n02121620) | 861 |\n",
    "| [kaggle](https://www.kaggle.com/c/dogs-vs-cats/data) | 12500 |\n",
    "| **total** | 13471 |\n",
    "\n",
    "#### !Cat\n",
    "\n",
    "| Source | Total |\n",
    "| --------------| -----------|\n",
    "| [Caltech101](http://www.vision.caltech.edu/Image_Datasets/Caltech101/) | 9145 |\n",
    "| [inria](http://lear.inrialpes.fr/~jegou/data.php#holidays) | ?? |\n",
    "| [ukbench](https://archive.org/details/ukbench) | 2550 |\n",
    "| **total** | 11694 |"
   ]
  },
  {
   "cell_type": "markdown",
   "metadata": {},
   "source": [
    "#### Nettoyage\n",
    "\n",
    "A la main\n",
    "\n",
    "#### Annotation\n",
    "\n",
    "Le nom du répertoire où on stocke les images fait office d'annotation.\n",
    "Les images de chat sont placées dans un répertoire **cat**.\n",
    "Les images qui ne contiennent pas de chats sont placées dans un répertoire **not_cat**."
   ]
  },
  {
   "cell_type": "code",
   "execution_count": null,
   "metadata": {},
   "outputs": [],
   "source": [
    "# set the matplotlib backend so figures can be saved in the background\n",
    "import matplotlib\n",
    "# @see https://matplotlib.org/glossary/index.html#term-agg\n",
    "matplotlib.use(\"Agg\")\n",
    "%matplotlib inline\n",
    "\n",
    "from importlib import reload\n",
    "from imgpred import gvutils\n",
    "reload(gvutils)\n",
    "# Division en 2 sous-ensembles \"train\" (9/10eme) et \"test2\" (1/10eme) contenant chacun 50% de cat/not_cat\n",
    "gvutils.create_sets(\"tmp_img\", \"images\")\n",
    "gvutils.imgs_stats(\"images\")"
   ]
  },
  {
   "cell_type": "markdown",
   "metadata": {},
   "source": [
    "# Convolutional Neural Network\n",
    "\n",
    "## [LeNet](https://www.pyimagesearch.com/2016/08/01/lenet-convolutional-neural-network-in-python/)"
   ]
  },
  {
   "cell_type": "code",
   "execution_count": 2,
   "metadata": {},
   "outputs": [
    {
     "name": "stderr",
     "output_type": "stream",
     "text": [
      "Using TensorFlow backend.\n"
     ]
    }
   ],
   "source": [
    "from keras.models import Sequential\n",
    "from keras.layers.convolutional import Conv2D\n",
    "from keras.layers.convolutional import MaxPooling2D\n",
    "from keras.layers.core import Activation\n",
    "from keras.layers.core import Flatten\n",
    "from keras.layers.core import Dense\n",
    "from keras import backend as K\n",
    "\n",
    "class LeNet:\n",
    "    @staticmethod\n",
    "    def build(width=28, height=28, depth=3, classes=2):\n",
    "        #initialize the model\n",
    "        model = Sequential()\n",
    "        inputShape = (height, width, depth)\n",
    "\n",
    "        # if we are using 'channels first', update the input shape\n",
    "        if K.image_data_format() == \"channels_first\":\n",
    "            inputShape = (depth, height, width)\n",
    "\n",
    "        # first set of CONV => RELU => POOL layers\n",
    "        model.add(Conv2D(20, (5, 5), padding=\"same\", input_shape=inputShape))\n",
    "        model.add(Activation(\"relu\"))\n",
    "        model.add(MaxPooling2D(pool_size=(2,2), strides=(2,2)))\n",
    "\n",
    "        # second set of CONV => RELU => POOL layers\n",
    "        model.add(Conv2D(50, (5, 5), padding=\"same\"))\n",
    "        model.add(Activation(\"relu\"))\n",
    "        model.add(MaxPooling2D(pool_size=(2, 2), strides=(2, 2)))\n",
    "\n",
    "        # first (and only) set of FC => RELU layers\n",
    "        model.add(Flatten())\n",
    "        model.add(Dense(500))\n",
    "        model.add(Activation(\"relu\"))\n",
    "\n",
    "        # softmax classifier\n",
    "        model.add(Dense(classes))\n",
    "        model.add(Activation(\"softmax\"))\n",
    "\n",
    "        # return the constructed network architecture\n",
    "        return model"
   ]
  },
  {
   "cell_type": "markdown",
   "metadata": {},
   "source": [
    "# Classification"
   ]
  },
  {
   "cell_type": "code",
   "execution_count": 4,
   "metadata": {},
   "outputs": [],
   "source": [
    "# set the matplotlib backend so figures can be saved in the background\n",
    "import matplotlib\n",
    "# @see https://matplotlib.org/glossary/index.html#term-agg\n",
    "matplotlib.use(\"Agg\")\n",
    "%matplotlib inline\n",
    "\n",
    "# import the necessary packages\n",
    "from keras.callbacks import TensorBoard\n",
    "from keras.preprocessing.image import ImageDataGenerator\n",
    "from keras.optimizers import Adam\n",
    "from sklearn.model_selection import train_test_split\n",
    "from keras.preprocessing.image import img_to_array\n",
    "from keras.utils import to_categorical\n",
    "from imutils import paths\n",
    "import matplotlib.pyplot as plt\n",
    "import numpy as np\n",
    "import random\n",
    "import cv2\n",
    "import os\n",
    "\n",
    "from keras.models import load_model\n",
    "import sys"
   ]
  },
  {
   "cell_type": "code",
   "execution_count": 5,
   "metadata": {},
   "outputs": [
    {
     "name": "stdout",
     "output_type": "stream",
     "text": [
      "[INFO] loading images...\n",
      "train:74 (cat:40, not_cat:34)\n",
      "test:25 (cat:9, not_cat:16)\n"
     ]
    }
   ],
   "source": [
    "def my_train_test_split(dataset_path, img_width, dataset_size=None):\n",
    "    # init the data and labels\n",
    "    print(\"[INFO] loading images...\")\n",
    "    data=[]\n",
    "    labels=[]\n",
    "    counter = [0,0]\n",
    "    \n",
    "    image_paths = sorted(list(paths.list_images(dataset_path)))\n",
    "    random.seed(42)\n",
    "    random.shuffle(image_paths)\n",
    "\n",
    "    for image_path in image_paths:\n",
    "        # os.path.sep => '\\\\' on Windows\n",
    "        label = image_path.split(os.path.sep)[-2]\n",
    "        label = 1 if label == \"cat\" else 0\n",
    "        if label:\n",
    "            counter[1] += 1\n",
    "        if not label:\n",
    "            counter[0] += 1\n",
    "        \n",
    "        if dataset_size:\n",
    "            if counter[1] >= dataset_size/2 and counter[0] >= dataset_size/2:\n",
    "                break;\n",
    "            if label and counter[1] > dataset_size/2:\n",
    "                continue;\n",
    "            if not label and counter[0] > dataset_size/2:\n",
    "                continue;\n",
    "            \n",
    "        img = cv2.imread(image_path)\n",
    "        img = cv2.resize(img, (img_width, img_width))\n",
    "        img = img_to_array(img)\n",
    "        data.append(img)\n",
    "        labels.append(label)\n",
    "\n",
    "    # scale the raw pixel intensities to the range [0,1]\n",
    "    data = np.array(data, dtype=\"float\") / 255.0\n",
    "    labels = np.array(labels)\n",
    "\n",
    "    # partition the data into training and testing splits using 75% of\n",
    "    # the data for training and the remaining 25% for testing\n",
    "    (trainX, testX, trainY, testY) = train_test_split(data, labels, test_size=0.25, random_state=42)\n",
    "\n",
    "    # convert the labels from integers to vectors\n",
    "    # [0,1,0] => [[1,0], [0,1], [1,0]]\n",
    "    trainY = to_categorical(trainY, num_classes=2)\n",
    "    testY = to_categorical(testY, num_classes=2)\n",
    "    return (trainX, testX, trainY, testY)\n",
    "\n",
    "m_filter = lambda arr,v: [it for it in arr if it[v] == 1]\n",
    "#m_filter = lambda arr,v: np.extract(arr[v] == 1, arr)\n",
    "#print(trainY) => le format est [[0,1],[0,1],[1,0],[0,1]...] après passage ds to_categorical\n",
    "(trainX, testX, trainY, testY) = my_train_test_split(\"images/train\",28, dataset_size=100)\n",
    "print( \"train:{0} (cat:{1}, not_cat:{2})\".format(len(trainY),len(m_filter(trainY,1)),len(m_filter(trainY,0))) )\n",
    "print( \"test:{0} (cat:{1}, not_cat:{2})\".format(len(testY),len(m_filter(testY,1)),len(m_filter(testY,0))) )"
   ]
  },
  {
   "cell_type": "code",
   "execution_count": 6,
   "metadata": {},
   "outputs": [],
   "source": [
    "def train_network(dataset_path, width, model_path, network_class=LeNet, verbose=1, dataset_size=None):\n",
    "    # @see https://keras.io/getting-started/faq/#what-does-sample-batch-epoch-mean\n",
    "    # initialize the number of epochs to train for, initial learning rate,\n",
    "    # and batch size\n",
    "    EPOCHS = 25 # training epochs\n",
    "    INIT_LR = 1e-3 # initial learning rate\n",
    "    BS = 32 # batch size\n",
    "    IMG_WIDTH = width\n",
    "\n",
    "    if isinstance(dataset_path, str):\n",
    "        (trainX, testX, trainY, testY) = my_train_test_split(dataset_path, IMG_WIDTH, dataset_size)\n",
    "    else:\n",
    "        (trainX, testX, trainY, testY) = dataset_path\n",
    "        \n",
    "    \"\"\"\n",
    "    construct the image generator for data augmentation\n",
    "    @see https://keras.io/preprocessing/image/\n",
    "    \"\"\"\n",
    "    aug = ImageDataGenerator(rotation_range=30, width_shift_range=0.1,\n",
    "    height_shift_range=0.1, shear_range=0.2, zoom_range=0.2,\n",
    "    horizontal_flip=True, fill_mode=\"nearest\")\n",
    "\n",
    "    # init the model\n",
    "    print(\"[INFO] compiling model...\")\n",
    "    model = network_class.build(width=IMG_WIDTH, height=IMG_WIDTH, depth=3, classes=2)\n",
    "\n",
    "    \"\"\"\n",
    "    https://keras.io/optimizers/#adam\n",
    "    https://arxiv.org/abs/1412.6980v8\n",
    "    \"\"\"\n",
    "    opt = Adam(lr=INIT_LR, decay=INIT_LR / EPOCHS)\n",
    "\n",
    "    \"\"\"\n",
    "    https://keras.io/losses/\n",
    "    https://keras.io/metrics/\n",
    "    https://rdipietro.github.io/friendly-intro-to-cross-entropy-loss/\n",
    "    https://en.wikipedia.org/wiki/Loss_function\n",
    "    \"\"\"\n",
    "    model.compile(loss=\"binary_crossentropy\", optimizer=opt, metrics=[\"accuracy\"])\n",
    "\n",
    "    # train the network\n",
    "    print(\"[INFO] training network...\")\n",
    "    # https://keras.io/models/model/#fit_generator\n",
    "    callbacks=[]\n",
    "    if True:\n",
    "        callbacks.append(TensorBoard(log_dir='./logs', histogram_freq=0, batch_size=BS, \n",
    "                                               write_graph=True, write_grads=False, write_images=False, \n",
    "                                               embeddings_freq=0, embeddings_layer_names=None, embeddings_metadata=None))\n",
    "    H = model.fit_generator(aug.flow(trainX, trainY, batch_size=BS), validation_data=(testX, testY),\n",
    "    steps_per_epoch=len(trainX) // BS, epochs=EPOCHS, verbose=verbose, callbacks=callbacks)\n",
    "\n",
    "    # save the model to disk\n",
    "    print(\"[INFO] serializing network...\")\n",
    "    model.save(model_path)\n",
    "\n",
    "    return (EPOCHS, H)\n",
    "\n",
    "\n",
    "#train_network(\"images/train\", 28, \"models/cat_not_cat_XX.model\", LeNet, 0, 100)\n",
    "#(trainX, testX, trainY, testY) = my_train_test_split(\"images/train\", 28, 100)\n",
    "#train_network((trainX, testX, trainY, testY), 28, \"models/cat_not_cat_XX.model\", LeNet, 0)"
   ]
  },
  {
   "cell_type": "code",
   "execution_count": null,
   "metadata": {},
   "outputs": [],
   "source": [
    "from string import Template\n",
    "import os\n",
    "from imgpred import gvutils\n",
    "\n",
    "def preprocess(img_path, width):\n",
    "    # pre-process the image for classification\n",
    "    image = cv2.imread(img_path)\n",
    "    image = cv2.resize(image, (width, width))\n",
    "    image = image.astype(\"float\") / 255.0\n",
    "    image = img_to_array(image)\n",
    "    # https://docs.scipy.org/doc/numpy-1.13.0/reference/generated/numpy.expand_dims.html\n",
    "    image = np.expand_dims(image, axis=0)\n",
    "    return image\n",
    "\n",
    "def test_network(dataset_path, width, model_path, verbose=1):\n",
    "    # load the trained convolutional neural network\n",
    "    verbose and print(\"[INFO] loading network...\")\n",
    "    model = load_model(model_path)\n",
    "\n",
    "    verbose and print(\"[INFO] testing images...\")\n",
    "    counter = 0\n",
    "    # tableaux de tuples (img_path, pred_label)\n",
    "    imgs = {\"tp\": [],\"tn\": [], \"fp\": [], \"fn\": []}\n",
    "    y_true, y_pred = [], []\n",
    "    for img_path in paths.list_images(dataset_path):\n",
    "        # classify the input image\n",
    "        (not_cat, cat) = model.predict(preprocess(img_path, width))[0]\n",
    "        verbose and print(\"[INFO] {0:.2f} {1:.2f}\".format(not_cat, cat))\n",
    "        img_label = 1 if img_path.split(os.path.sep)[-2] == \"cat\" else 0\n",
    "        y_true.append( img_label )\n",
    "        y_pred.append(1 if cat > not_cat else 0)\n",
    "\n",
    "        # Confusion Matrix for img reporting\n",
    "        conf = \"foo\"\n",
    "        if (cat > not_cat and img_label == 1):\n",
    "            conf = \"tp\"\n",
    "        elif (cat < not_cat and img_label == 0):\n",
    "            conf = \"tn\"\n",
    "        elif (cat > not_cat and img_label == 0):\n",
    "            conf = \"fp\"\n",
    "        elif (cat < not_cat and img_label == 1):\n",
    "            conf = \"fn\"\n",
    "        imgs[conf].append((img_path, gvutils.pred_label(cat, not_cat)))\n",
    "\n",
    "        # Progress bar\n",
    "        counter += 1\n",
    "        verbose and gvutils.print_progress(counter, 0.02)\n",
    "\n",
    "    return (y_true, y_pred, imgs)"
   ]
  },
  {
   "cell_type": "markdown",
   "metadata": {},
   "source": [
    "## Mise en pratique"
   ]
  },
  {
   "cell_type": "markdown",
   "metadata": {},
   "source": [
    "### Entrainement"
   ]
  },
  {
   "cell_type": "code",
   "execution_count": 7,
   "metadata": {},
   "outputs": [
    {
     "name": "stdout",
     "output_type": "stream",
     "text": [
      "[INFO] loading images...\n",
      "[INFO] compiling model...\n",
      "[INFO] training network...\n",
      "[INFO] serializing network...\n"
     ]
    },
    {
     "data": {
      "image/png": "[encoded data removed]",
      "text/plain": [
       "<matplotlib.figure.Figure at 0x236e3d65c50>"
      ]
     },
     "metadata": {},
     "output_type": "display_data"
    },
    {
     "data": {
      "image/png": "[encoded data removed]",
      "text/plain": [
       "<matplotlib.figure.Figure at 0x236e2fd3a58>"
      ]
     },
     "metadata": {},
     "output_type": "display_data"
    }
   ],
   "source": [
    "from imgpred import gvutils\n",
    "from importlib import reload\n",
    "reload(gvutils)\n",
    "\n",
    "# %matplotlib inline\n",
    "(N, H) = train_network(\"images/train\", 28, \"models/cat_not_cat_XX.model\", LeNet, 0, 100)\n",
    "gvutils.print_save_plot(N, H, \"reporting/plot_XX.png\")\n",
    "gvutils.imgs_stats(\"images\")"
   ]
  },
  {
   "cell_type": "markdown",
   "metadata": {},
   "source": [
    "### Evaluation"
   ]
  },
  {
   "cell_type": "code",
   "execution_count": null,
   "metadata": {},
   "outputs": [],
   "source": [
    "from imgpred import gvutils\n",
    "reload(gvutils)\n",
    "# http://scikit-learn.org/stable/modules/generated/sklearn.metrics.confusion_matrix.html\n",
    "from sklearn.metrics import confusion_matrix\n",
    "from sklearn.metrics import accuracy_score\n",
    "\n",
    "(y_true, y_pred, imgs) = test_network(\"images/test2\", 128, \"models/cat_not_cat_128px.model\", False)\n",
    "cm = confusion_matrix(y_true, y_pred)\n",
    "# https://docs.scipy.org/doc/numpy-1.13.0/reference/generated/numpy.ravel.html\n",
    "tn, fp, fn, tp = cm.ravel()\n",
    "gvutils.plot_confusion_matrix(cm, classes=[\"Not Cat\", \"Cat\"])\n",
    "plt.show()\n",
    "print(\"[INFO] accuracy={:.2f}\".format(accuracy_score(y_true, y_pred)))\n",
    "\n",
    "#print(str(imgs))\n",
    "gvutils.save_confusion_matrix_samples(imgs, \"reporting/conf_matrix_XX.png\")"
   ]
  },
  {
   "cell_type": "markdown",
   "metadata": {},
   "source": [
    "# [GridSearch](https://machinelearningmastery.com/grid-search-hyperparameters-deep-learning-models-python-keras/)"
   ]
  },
  {
   "cell_type": "code",
   "execution_count": 8,
   "metadata": {},
   "outputs": [
    {
     "name": "stdout",
     "output_type": "stream",
     "text": [
      "======== [INFO] img_size:28px, dataset_size:500 ===========\n",
      "[INFO] loading images...\n"
     ]
    },
    {
     "ename": "KeyboardInterrupt",
     "evalue": "",
     "output_type": "error",
     "traceback": [
      "\u001b[1;31m---------------------------------------------------------------------------\u001b[0m",
      "\u001b[1;31mKeyboardInterrupt\u001b[0m                         Traceback (most recent call last)",
      "\u001b[1;32m<ipython-input-8-ab81a739e485>\u001b[0m in \u001b[0;36m<module>\u001b[1;34m()\u001b[0m\n\u001b[0;32m     15\u001b[0m         \"\"\"\n\u001b[0;32m     16\u001b[0m         \u001b[0mprint\u001b[0m\u001b[1;33m(\u001b[0m\u001b[1;34m\"======== [INFO] img_size:{0}px, dataset_size:{1} ===========\"\u001b[0m\u001b[1;33m.\u001b[0m\u001b[0mformat\u001b[0m\u001b[1;33m(\u001b[0m\u001b[0mimg_size\u001b[0m\u001b[1;33m,\u001b[0m\u001b[0mdataset_size\u001b[0m\u001b[1;33m)\u001b[0m\u001b[1;33m)\u001b[0m\u001b[1;33m\u001b[0m\u001b[0m\n\u001b[1;32m---> 17\u001b[1;33m         \u001b[1;33m(\u001b[0m\u001b[0mtrainX\u001b[0m\u001b[1;33m,\u001b[0m \u001b[0mtestX\u001b[0m\u001b[1;33m,\u001b[0m \u001b[0mtrainY\u001b[0m\u001b[1;33m,\u001b[0m \u001b[0mtestY\u001b[0m\u001b[1;33m)\u001b[0m \u001b[1;33m=\u001b[0m \u001b[0mmy_train_test_split\u001b[0m\u001b[1;33m(\u001b[0m\u001b[1;34m\"images/train\"\u001b[0m\u001b[1;33m,\u001b[0m \u001b[0mimg_size\u001b[0m\u001b[1;33m,\u001b[0m \u001b[0mdataset_size\u001b[0m\u001b[1;33m)\u001b[0m\u001b[1;33m\u001b[0m\u001b[0m\n\u001b[0m\u001b[0;32m     18\u001b[0m         (N, H) = train_network(\n\u001b[0;32m     19\u001b[0m             \u001b[1;33m(\u001b[0m\u001b[0mtrainX\u001b[0m\u001b[1;33m,\u001b[0m \u001b[0mtestX\u001b[0m\u001b[1;33m,\u001b[0m \u001b[0mtrainY\u001b[0m\u001b[1;33m,\u001b[0m \u001b[0mtestY\u001b[0m\u001b[1;33m)\u001b[0m\u001b[1;33m,\u001b[0m\u001b[1;33m\u001b[0m\u001b[0m\n",
      "\u001b[1;32m<ipython-input-5-fda31b585a8e>\u001b[0m in \u001b[0;36mmy_train_test_split\u001b[1;34m(dataset_path, img_width, dataset_size)\u001b[0m\n\u001b[0;32m     27\u001b[0m                 \u001b[1;32mcontinue\u001b[0m\u001b[1;33m;\u001b[0m\u001b[1;33m\u001b[0m\u001b[0m\n\u001b[0;32m     28\u001b[0m \u001b[1;33m\u001b[0m\u001b[0m\n\u001b[1;32m---> 29\u001b[1;33m         \u001b[0mimg\u001b[0m \u001b[1;33m=\u001b[0m \u001b[0mcv2\u001b[0m\u001b[1;33m.\u001b[0m\u001b[0mimread\u001b[0m\u001b[1;33m(\u001b[0m\u001b[0mimage_path\u001b[0m\u001b[1;33m)\u001b[0m\u001b[1;33m\u001b[0m\u001b[0m\n\u001b[0m\u001b[0;32m     30\u001b[0m         \u001b[0mimg\u001b[0m \u001b[1;33m=\u001b[0m \u001b[0mcv2\u001b[0m\u001b[1;33m.\u001b[0m\u001b[0mresize\u001b[0m\u001b[1;33m(\u001b[0m\u001b[0mimg\u001b[0m\u001b[1;33m,\u001b[0m \u001b[1;33m(\u001b[0m\u001b[0mimg_width\u001b[0m\u001b[1;33m,\u001b[0m \u001b[0mimg_width\u001b[0m\u001b[1;33m)\u001b[0m\u001b[1;33m)\u001b[0m\u001b[1;33m\u001b[0m\u001b[0m\n\u001b[0;32m     31\u001b[0m         \u001b[0mimg\u001b[0m \u001b[1;33m=\u001b[0m \u001b[0mimg_to_array\u001b[0m\u001b[1;33m(\u001b[0m\u001b[0mimg\u001b[0m\u001b[1;33m)\u001b[0m\u001b[1;33m\u001b[0m\u001b[0m\n",
      "\u001b[1;31mKeyboardInterrupt\u001b[0m: "
     ]
    }
   ],
   "source": [
    "%load_ext autoreload\n",
    "%autoreload\n",
    "from imgpred import gvutils\n",
    "\n",
    "histories = []\n",
    "dataset_sizes, img_sizes = range(500,6000,500), [28, 64, 128]\n",
    "#dataset_sizes, img_sizes = range(500,1000,500), [28,64,128]\n",
    "for dataset_size in dataset_sizes:\n",
    "    #gvutils.create_sets(\"tmp_img\", \"images\", dataset_size)\n",
    "    for img_size in img_sizes:\n",
    "        \"\"\"\n",
    "        Attention il y un biais ici\n",
    "        Les images des ensembles ne seront pas les mêmes parce qu'on doit redimensionner les images\n",
    "        lors du split\n",
    "        \"\"\"\n",
    "        print(\"======== [INFO] img_size:{0}px, dataset_size:{1} ===========\".format(img_size,dataset_size))\n",
    "        (trainX, testX, trainY, testY) = my_train_test_split(\"images/train\", img_size, dataset_size)\n",
    "        (N, H) = train_network(\n",
    "            (trainX, testX, trainY, testY),\n",
    "            img_size, \n",
    "            \"models/cat_not_cat_{0}px_{1}i.model\".format(img_size,dataset_size), \n",
    "            LeNet,\n",
    "            0\n",
    "        )\n",
    "        #gvutils.print_save_plot(N, H, \"reporting/plot_{0}px_{1}i.png\".format(img_size,dataset_size))\n",
    "        histories.append({\n",
    "           \"img_size\": img_size,\n",
    "            \"dataset_size\": dataset_size,\n",
    "            \"val_loss\": H.history[\"val_loss\"][-1],\n",
    "            \"loss\": H.history[\"loss\"][-1],\n",
    "            \"acc\": H.history[\"acc\"][-1],\n",
    "            \"val_acc\": H.history[\"val_acc\"][-1],\n",
    "        })\n",
    "        gvutils.list_to_file(\"reporting/gridsearch2.json\", [histories[-1]], \"a\")\n",
    "\n",
    "#gvutils.list_to_file(\"reporting/gridsearch2.json\", histories)\n",
    "#accuracys = [h[\"val_acc\"] for h in histories]\n",
    "gvutils.read_matrix(\"reporting/gridsearch2.json\", \"reporting/plot_gs2.png\", dataset_sizes, img_sizes)"
   ]
  },
  {
   "cell_type": "code",
   "execution_count": null,
   "metadata": {},
   "outputs": [],
   "source": []
  },
  {
   "cell_type": "markdown",
   "metadata": {},
   "source": [
    "Plus la densité"
   ]
  },
  {
   "cell_type": "code",
   "execution_count": null,
   "metadata": {},
   "outputs": [],
   "source": [
    "from keras.wrappers.scikit_learn import KerasClassifier\n",
    "from sklearn.model_selection import GridSearchCV\n",
    "\n",
    "# @see https://keras.io/getting-started/faq/#what-does-sample-batch-epoch-mean\n",
    "# initialize the number of epochs to train for, initial learning rate,\n",
    "# and batch size\n",
    "EPOCHS = 25 # training epochs\n",
    "INIT_LR = 1e-3 # initial learning rate\n",
    "BS = 32 # batch size\n",
    "\n",
    "# https://machinelearningmastery.com/grid-search-hyperparameters-deep-learning-models-python-keras/\n",
    "def create_model():\n",
    "    model = LeNet.build()\n",
    "    model.compile(loss=\"binary_crossentropy\", optimizer='adam', metrics=[\"accuracy\"])\n",
    "    return model\n",
    "\n",
    "model = KerasClassifier(build_fn=create_model, epochs=EPOCHS, batch_size=BS)\n",
    "\n",
    "(trainX, testX, trainY, testY) = my_train_test_split(\"images/train\")\n",
    "print(\"[INFO] data split done\")\n",
    "\n",
    "# cf. http://cs231n.github.io/neural-networks-3/\n",
    "# define the grid search parameters\n",
    "batch_size = [10, 20, 40, 60, 80, 100]\n",
    "epochs = [10, 50, 100]\n",
    "param_grid = dict(batch_size=batch_size, epochs=epochs)\n",
    "\n",
    "grid = GridSearchCV(estimator=model, param_grid=param_grid, n_jobs=1, verbose=0)"
   ]
  },
  {
   "cell_type": "code",
   "execution_count": null,
   "metadata": {},
   "outputs": [],
   "source": [
    "grid_result = grid.fit(trainX, trainY)\n",
    "print(grid_result.best_score_, grid_result.best_params_)"
   ]
  },
  {
   "cell_type": "code",
   "execution_count": null,
   "metadata": {},
   "outputs": [],
   "source": []
  },
  {
   "cell_type": "code",
   "execution_count": null,
   "metadata": {},
   "outputs": [],
   "source": []
  }
 ],
 "metadata": {
  "kernelspec": {
   "display_name": "Python 3",
   "language": "python",
   "name": "python3"
  },
  "language_info": {
   "codemirror_mode": {
    "name": "ipython",
    "version": 3
   },
   "file_extension": ".py",
   "mimetype": "text/x-python",
   "name": "python",
   "nbconvert_exporter": "python",
   "pygments_lexer": "ipython3",
   "version": "3.6.3"
  }
 },
 "nbformat": 4,
 "nbformat_minor": 2
}
