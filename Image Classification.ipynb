{
 "cells": [
  {
   "cell_type": "markdown",
   "metadata": {},
   "source": [
    "# [CAT / NOT CAT](https://github.com/gabrielvv/imgpred)\n",
    "\n",
    "BORDAGE MICKAEL  \n",
    "VAUTRIN GABRIEL  \n",
    "5A MOC1  \n",
    "ESGI"
   ]
  },
  {
   "cell_type": "markdown",
   "metadata": {},
   "source": [
    "# Collecter les données"
   ]
  },
  {
   "cell_type": "markdown",
   "metadata": {},
   "source": [
    "## Sur Google Image\n",
    "\n",
    "On peut récolter les images affichées sur Google Image\n",
    "* exécuter le script javascript dans la console du browser sur la page Google Image, afin de récupérer la liste des urls\n",
    "* **download_img** va télécharger toutes les images référencées dans la liste"
   ]
  },
  {
   "cell_type": "code",
   "execution_count": 3,
   "metadata": {},
   "outputs": [
    {
     "data": {
      "application/javascript": [
       "// pull down jquery into the JavaScript console\n",
       "var script = document.createElement('script');\n",
       "script.src = \"https://ajax.googleapis.com/ajax/libs/jquery/2.2.0/jquery.min.js\";\n",
       "document.getElementsByTagName('head')[0].appendChild(script);\n",
       "\n",
       "// grab the URLs\n",
       "var urls = $('.rg_di .rg_meta').map(function() { return JSON.parse($(this).text()).ou; });\n",
       "\n",
       "// write the URls to file (one per line)\n",
       "var textToSave = urls.toArray().join('\\n');\n",
       "var hiddenElement = document.createElement('a');\n",
       "hiddenElement.href = 'data:attachment/text,' + encodeURI(textToSave);\n",
       "hiddenElement.target = '_blank';\n",
       "hiddenElement.download = 'google_urls.txt';\n",
       "hiddenElement.click();"
      ],
      "text/plain": [
       "<IPython.core.display.Javascript object>"
      ]
     },
     "metadata": {},
     "output_type": "display_data"
    }
   ],
   "source": [
    "%%js\n",
    "// pull down jquery into the JavaScript console\n",
    "var script = document.createElement('script');\n",
    "script.src = \"https://ajax.googleapis.com/ajax/libs/jquery/2.2.0/jquery.min.js\";\n",
    "document.getElementsByTagName('head')[0].appendChild(script);\n",
    "\n",
    "// grab the URLs\n",
    "var urls = $('.rg_di .rg_meta').map(function() { return JSON.parse($(this).text()).ou; });\n",
    "\n",
    "// write the URls to file (one per line)\n",
    "var textToSave = urls.toArray().join('\\n');\n",
    "var hiddenElement = document.createElement('a');\n",
    "hiddenElement.href = 'data:attachment/text,' + encodeURI(textToSave);\n",
    "hiddenElement.target = '_blank';\n",
    "hiddenElement.download = 'google_urls.txt';\n",
    "hiddenElement.click();"
   ]
  },
  {
   "cell_type": "code",
   "execution_count": 4,
   "metadata": {},
   "outputs": [],
   "source": [
    "from imutils import paths\n",
    "import requests\n",
    "import os\n",
    "\n",
    "def download_img(urls_path, output_path, prefix=\"img\"):\n",
    "    # grab the list of URLs from the input file, then initialize the\n",
    "    # total number of images downloaded thus far\n",
    "    rows = open(urls_path).read().strip().split(\"\\n\")\n",
    "    total = 0\n",
    "\n",
    "    # loop the URLs\n",
    "    for url in rows:\n",
    "        try:\n",
    "            # try to download the image\n",
    "            r = requests.get(url, timeout=60)\n",
    "\n",
    "            # save the image to disk\n",
    "            p = os.path.sep.join([output_path, \"{}.jpg\".format(\n",
    "                str(total).zfill(5))])\n",
    "            f = open(p, \"wb\") # binary format\n",
    "            f.write(r.content)\n",
    "            f.close()\n",
    "\n",
    "            # update the counter\n",
    "            print(\"[INFO] downloaded: {}\".format(p))\n",
    "            total += 1\n",
    "\n",
    "        # handle if any exceptions are thrown during the download process\n",
    "        except:\n",
    "            print(\"[INFO] error downloading {}...skipping\".format(p))\n",
    "            \n",
    "# download(\"google_urls.txt\", \"tmp_img/cat\", \"google\")"
   ]
  },
  {
   "cell_type": "markdown",
   "metadata": {},
   "source": [
    "#### Nettoyage\n",
    "\n",
    "* **clean_imgs** supprime les images que opencv n'arrive pas à lire\n",
    "* contrôle visuel aléatoire (c'est impossible de s'assurer que 20000 images représentent bien ce qu'elles sont censés représenter)\n",
    "* *ukbench* fournit des séries de 4 images du même objet dans les mêmes conditions avec quasiment le même angle de vue, on retire donc 3 images sur 4"
   ]
  },
  {
   "cell_type": "code",
   "execution_count": 5,
   "metadata": {},
   "outputs": [],
   "source": [
    "from imutils import paths\n",
    "import cv2\n",
    "import os\n",
    "\n",
    "def clean_imgs(directory_path):\n",
    "    # loop over the image paths we just downloaded\n",
    "    for image_path in paths.list_images(directory_path):\n",
    "        # initialize if the image should be deleted or not\n",
    "        delete = False\n",
    "\n",
    "        # try to load the image\n",
    "        try:\n",
    "            image = cv2.imread(image_path)\n",
    "\n",
    "            # if the image is `None` then we could not properly load it\n",
    "            # from disk, so delete it\n",
    "            if image is None:\n",
    "                delete = True\n",
    "\n",
    "        # if OpenCV cannot load the image then the image is likely\n",
    "        # corrupt so we should delete it\n",
    "        except:\n",
    "            print(\"Except\")\n",
    "            delete = True\n",
    "\n",
    "        # check to see if the image should be deleted\n",
    "        if delete:\n",
    "            print(\"[INFO] deleting {}\".format(image_path))\n",
    "            os.remove(image_path)\n",
    "            \n",
    "# clean_imgs(\"tmp_img/cat\")"
   ]
  },
  {
   "cell_type": "markdown",
   "metadata": {},
   "source": [
    "Au fil des recherches, nous avons récoltés les images suivantes parmi plusieurs datasets :\n",
    "\n",
    "#### Cat\n",
    "\n",
    "| Source | Total |\n",
    "| --------------| -----------|\n",
    "| [google image](https://www.google.com/search?q=cat&source=lnms&tbm=isch&sa=X&ved=0ahUKEwi8oKaNw5jYAhWG8RQKHVfoD7kQ_AUICigB&biw=1920&bih=968) | 610 |\n",
    "| [imagenet](https://www.image-net.org/synset?wnid=n02121620) | 861 |\n",
    "| [kaggle](https://www.kaggle.com/c/dogs-vs-cats/data) | 12500 |\n",
    "| **total** | 13471 |\n",
    "\n",
    "#### !Cat\n",
    "\n",
    "| Source | Total |\n",
    "| --------------| -----------|\n",
    "| [Caltech101](http://www.vision.caltech.edu/Image_Datasets/Caltech101/) | 9145 |\n",
    "| [ukbench](https://archive.org/details/ukbench) | 2550 |\n",
    "| **total** | 11694 |"
   ]
  },
  {
   "cell_type": "markdown",
   "metadata": {},
   "source": [
    "#### Annotation\n",
    "\n",
    "Le nom du répertoire où on stocke les images fait office d'annotation.\n",
    "Les images de chat sont placées dans un répertoire **cat**.\n",
    "Les images qui ne contiennent pas de chats sont placées dans un répertoire **not_cat**."
   ]
  },
  {
   "cell_type": "markdown",
   "metadata": {},
   "source": [
    "### Division en 2 sous-ensembles\n",
    "* **train+validation** (9/10eme)\n",
    "* **eval** (1/10eme) \n",
    "\n",
    "chacun contenant 50% de *cat* et 50% de *not_cat*"
   ]
  },
  {
   "cell_type": "code",
   "execution_count": 6,
   "metadata": {},
   "outputs": [
    {
     "data": {
      "image/png": "[encoded data removed]",
      "text/plain": [
       "<matplotlib.figure.Figure at 0x179ada20080>"
      ]
     },
     "metadata": {},
     "output_type": "display_data"
    }
   ],
   "source": [
    "import warnings\n",
    "warnings.filterwarnings('ignore')\n",
    "\n",
    "# set the matplotlib backend so figures can be saved in the background\n",
    "import matplotlib\n",
    "# @see https://matplotlib.org/glossary/index.html#term-agg\n",
    "matplotlib.use(\"Agg\")\n",
    "%matplotlib inline\n",
    "\n",
    "from importlib import reload\n",
    "from imgpred import gvutils\n",
    "reload(gvutils)\n",
    "\n",
    "gvutils.create_sets(\"tmp_img\", \"images\")\n",
    "gvutils.imgs_stats(\"images\")"
   ]
  },
  {
   "cell_type": "markdown",
   "metadata": {},
   "source": [
    "# Convolutional Neural Network\n",
    "\n",
    "## Définition du réseau de neurones [LeNet](https://www.pyimagesearch.com/2016/08/01/lenet-convolutional-neural-network-in-python/)"
   ]
  },
  {
   "cell_type": "code",
   "execution_count": 7,
   "metadata": {},
   "outputs": [],
   "source": [
    "from keras.models import Sequential\n",
    "from keras.layers.convolutional import Conv2D\n",
    "from keras.layers.convolutional import MaxPooling2D\n",
    "from keras.layers.core import Activation\n",
    "from keras.layers.core import Flatten\n",
    "from keras.layers.core import Dense\n",
    "from keras import backend as K\n",
    "\n",
    "class LeNet:\n",
    "    @staticmethod\n",
    "    def build(width=28, height=28, depth=3, classes=2):\n",
    "        #initialize the model\n",
    "        model = Sequential()\n",
    "        inputShape = (height, width, depth)\n",
    "\n",
    "        # if we are using 'channels first', update the input shape\n",
    "        if K.image_data_format() == \"channels_first\":\n",
    "            inputShape = (depth, height, width)\n",
    "\n",
    "        # first set of CONV => RELU => POOL layers\n",
    "        model.add(Conv2D(20, (5, 5), padding=\"same\", input_shape=inputShape))\n",
    "        model.add(Activation(\"relu\"))\n",
    "        model.add(MaxPooling2D(pool_size=(2,2), strides=(2,2)))\n",
    "\n",
    "        # second set of CONV => RELU => POOL layers\n",
    "        model.add(Conv2D(50, (5, 5), padding=\"same\"))\n",
    "        model.add(Activation(\"relu\"))\n",
    "        model.add(MaxPooling2D(pool_size=(2, 2), strides=(2, 2)))\n",
    "\n",
    "        # first (and only) set of FC => RELU layers\n",
    "        model.add(Flatten())\n",
    "        model.add(Dense(500))\n",
    "        model.add(Activation(\"relu\"))\n",
    "\n",
    "        # softmax classifier\n",
    "        model.add(Dense(classes))\n",
    "        model.add(Activation(\"softmax\"))\n",
    "\n",
    "        # return the constructed network architecture\n",
    "        return model"
   ]
  },
  {
   "cell_type": "markdown",
   "metadata": {},
   "source": [
    "## [ConvNet](https://blog.keras.io/building-powerful-image-classification-models-using-very-little-data.html)\n",
    "\n",
    "Nous nous sommes concentrés sur **LeNet** mais nous utilisons ConvNet pour tester l'aspect générique de certaines fonctions et comme élément de comparaison."
   ]
  },
  {
   "cell_type": "code",
   "execution_count": 8,
   "metadata": {},
   "outputs": [],
   "source": [
    "from keras.models import Sequential\n",
    "from keras.layers import Conv2D, MaxPooling2D\n",
    "from keras.layers import Activation, Dropout, Flatten, Dense\n",
    "from keras import backend as K\n",
    "\n",
    "class ConvNet:\n",
    "    @staticmethod\n",
    "    def build(width=28, height=28, depth=3, classes=2):\n",
    "        if K.image_data_format() == 'channels_first':\n",
    "            input_shape = (depth, width, height)\n",
    "        else:\n",
    "            input_shape = (width, height, depth)\n",
    "\n",
    "        model = Sequential()\n",
    "        model.add(Conv2D(32, (3, 3), input_shape=input_shape))\n",
    "        model.add(Activation('relu'))\n",
    "        model.add(MaxPooling2D(pool_size=(2, 2)))\n",
    "\n",
    "        model.add(Conv2D(32, (3, 3)))\n",
    "        model.add(Activation('relu'))\n",
    "        model.add(MaxPooling2D(pool_size=(2, 2)))\n",
    "\n",
    "        model.add(Conv2D(64, (3, 3)))\n",
    "        model.add(Activation('relu'))\n",
    "        model.add(MaxPooling2D(pool_size=(2, 2)))\n",
    "\n",
    "        model.add(Flatten())\n",
    "        model.add(Dense(64))\n",
    "        model.add(Activation('relu'))\n",
    "        model.add(Dropout(0.5))\n",
    "        model.add(Dense(classes))\n",
    "        model.add(Activation('sigmoid'))\n",
    "\n",
    "        return model"
   ]
  },
  {
   "cell_type": "markdown",
   "metadata": {},
   "source": [
    "# Classification\n",
    "\n",
    "## Définition des fonctions"
   ]
  },
  {
   "cell_type": "code",
   "execution_count": 9,
   "metadata": {},
   "outputs": [],
   "source": [
    "#import warnings\n",
    "#warnings.filterwarnings('ignore')\n",
    "\n",
    "# set the matplotlib backend so figures can be saved in the background\n",
    "import matplotlib\n",
    "# @see https://matplotlib.org/glossary/index.html#term-agg\n",
    "matplotlib.use(\"Agg\")\n",
    "%matplotlib inline\n",
    "\n",
    "# import the necessary packages\n",
    "from keras.callbacks import TensorBoard\n",
    "from keras.preprocessing.image import ImageDataGenerator\n",
    "from keras.optimizers import Adam\n",
    "from sklearn.model_selection import train_test_split\n",
    "from keras.preprocessing.image import img_to_array\n",
    "from keras.utils import to_categorical\n",
    "from imutils import paths\n",
    "import matplotlib.pyplot as plt\n",
    "import numpy as np\n",
    "import random\n",
    "import cv2\n",
    "import os\n",
    "\n",
    "from keras.models import load_model\n",
    "import sys"
   ]
  },
  {
   "cell_type": "markdown",
   "metadata": {},
   "source": [
    "La fonction **my_train_test_split** permet de créer un dataset équilibré et aléatoire à partir de toutes les images disponibles, avec éventuellement une quantité inférieure à la quantité d'images disponibles.\n",
    "Les images sont converties en matrices et étiquetées.\n",
    "On effectue ensuite un *train_test_split* sur ces données et on retourne le résultat."
   ]
  },
  {
   "cell_type": "code",
   "execution_count": 10,
   "metadata": {},
   "outputs": [],
   "source": [
    "def my_train_test_split(dataset_path, img_width, dataset_size=None):\n",
    "    # init the data and labels\n",
    "    print(\"[INFO] loading images...\")\n",
    "    data=[]\n",
    "    labels=[]\n",
    "    counter = [0,0]\n",
    "    \n",
    "    image_paths = sorted(list(paths.list_images(dataset_path)))\n",
    "    random.seed(42)\n",
    "    random.shuffle(image_paths)\n",
    "\n",
    "    for image_path in image_paths:\n",
    "        # os.path.sep => '\\\\' on Windows\n",
    "        label = image_path.split(os.path.sep)[-2]\n",
    "        label = 1 if label == \"cat\" else 0\n",
    "        if label:\n",
    "            counter[1] += 1\n",
    "        if not label:\n",
    "            counter[0] += 1\n",
    "        \n",
    "        if dataset_size:\n",
    "            if counter[1] >= dataset_size/2 and counter[0] >= dataset_size/2:\n",
    "                break;\n",
    "            if label and counter[1] > dataset_size/2:\n",
    "                continue;\n",
    "            if not label and counter[0] > dataset_size/2:\n",
    "                continue;\n",
    "            \n",
    "        img = cv2.imread(image_path)\n",
    "        img = cv2.resize(img, (img_width, img_width))\n",
    "        img = img_to_array(img)\n",
    "        data.append(img)\n",
    "        labels.append(label)\n",
    "\n",
    "    # scale the raw pixel intensities to the range [0,1]\n",
    "    data = np.array(data, dtype=\"float\") / 255.0\n",
    "    labels = np.array(labels)\n",
    "\n",
    "    # partition the data into training and testing splits using 75% of\n",
    "    # the data for training and the remaining 25% for testing\n",
    "    (trainX, testX, trainY, testY) = train_test_split(data, labels, test_size=0.25, random_state=42)\n",
    "\n",
    "    # convert the labels from integers to vectors\n",
    "    # [0,1,0] => [[1,0], [0,1], [1,0]]\n",
    "    trainY = to_categorical(trainY, num_classes=2)\n",
    "    testY = to_categorical(testY, num_classes=2)\n",
    "    return (trainX, testX, trainY, testY)\n",
    "\n",
    "m_filter = lambda arr,v: [it for it in arr if it[v] == 1]\n",
    "#m_filter = lambda arr,v: np.extract(arr[v] == 1, arr)\n",
    "#print(trainY) => le format est [[0,1],[0,1],[1,0],[0,1]...] après passage ds to_categorical\n",
    "#(trainX, testX, trainY, testY) = my_train_test_split(\"images/train\",28, dataset_size=100)\n",
    "#print( \"train:{0} (cat:{1}, not_cat:{2})\".format(len(trainY),len(m_filter(trainY,1)),len(m_filter(trainY,0))) )\n",
    "#print( \"test:{0} (cat:{1}, not_cat:{2})\".format(len(testY),len(m_filter(testY,1)),len(m_filter(testY,0))) )"
   ]
  },
  {
   "cell_type": "markdown",
   "metadata": {},
   "source": [
    "#### train_network"
   ]
  },
  {
   "cell_type": "code",
   "execution_count": 11,
   "metadata": {},
   "outputs": [],
   "source": [
    "def train_network(dataset_path, width, model_path, network_class=LeNet, params={}):\n",
    "    # @see https://keras.io/getting-started/faq/#what-does-sample-batch-epoch-mean\n",
    "    # initialize the number of epochs to train for, initial learning rate,\n",
    "    # and batch size\n",
    "    EPOCHS = params.get(\"EPOCHS\", 25) # training epochs\n",
    "    INIT_LR = params.get(\"INIT_LR\", 1e-3) # initial learning rate\n",
    "    BS = params.get(\"BS\", 32) # batch size\n",
    "    verbose = params.get(\"verbose\", 1)\n",
    "    dataset_size = params.get(\"dataset_size\", None)\n",
    "    IMG_WIDTH = width\n",
    "\n",
    "    if isinstance(dataset_path, str):\n",
    "        (trainX, testX, trainY, testY) = my_train_test_split(dataset_path, IMG_WIDTH, dataset_size)\n",
    "    else:\n",
    "        (trainX, testX, trainY, testY) = dataset_path\n",
    "        \n",
    "    \"\"\"\n",
    "    construct the image generator for data augmentation\n",
    "    @see https://keras.io/preprocessing/image/\n",
    "    \"\"\"\n",
    "    aug = params.get(\"aug\", ImageDataGenerator(rotation_range=30, width_shift_range=0.1,\n",
    "    height_shift_range=0.1, shear_range=0.2, zoom_range=0.2,\n",
    "    horizontal_flip=True, fill_mode=\"nearest\"))\n",
    "\n",
    "    # init the model\n",
    "    print(\"[INFO] compiling model...\")\n",
    "    model = network_class.build(width=IMG_WIDTH, height=IMG_WIDTH, depth=3, classes=2)\n",
    "\n",
    "    \"\"\"\n",
    "    https://keras.io/optimizers/#adam\n",
    "    https://arxiv.org/abs/1412.6980v8\n",
    "    \"\"\"\n",
    "    opt = params.get(\"optimizer\", Adam(lr=INIT_LR, decay=INIT_LR / EPOCHS))\n",
    "\n",
    "    \"\"\"\n",
    "    https://keras.io/losses/\n",
    "    https://keras.io/metrics/\n",
    "    https://rdipietro.github.io/friendly-intro-to-cross-entropy-loss/\n",
    "    https://en.wikipedia.org/wiki/Loss_function\n",
    "    \"\"\"\n",
    "    model.compile(loss=\"binary_crossentropy\", optimizer=opt, metrics=[\"accuracy\"])\n",
    "    \n",
    "    # train the network\n",
    "    print(\"[INFO] training network...\")\n",
    "    # https://keras.io/models/model/#fit_generator\n",
    "    callbacks=[]\n",
    "    if True:\n",
    "        callbacks.append(TensorBoard(log_dir='./logs', histogram_freq=0, batch_size=BS, \n",
    "                                               write_graph=True, write_grads=False, write_images=False, \n",
    "                                               embeddings_freq=0, embeddings_layer_names=None, embeddings_metadata=None))\n",
    "    H = model.fit_generator(aug.flow(trainX, trainY, batch_size=BS), validation_data=(testX, testY),\n",
    "    steps_per_epoch=len(trainX) // BS, epochs=EPOCHS, verbose=verbose, callbacks=callbacks)\n",
    "\n",
    "    # save the model to disk\n",
    "    print(\"[INFO] serializing network...\")\n",
    "    model.save(model_path)\n",
    "    del model\n",
    "    return (EPOCHS, H)\n",
    "\n",
    "\n",
    "#train_network(\"images/train\", 28, \"models/cat_not_cat_XX.model\", LeNet, {\"verbose\":0, \"dataset_size\":100})\n",
    "#(trainX, testX, trainY, testY) = my_train_test_split(\"images/train\", 28, 100)\n",
    "#train_network((trainX, testX, trainY, testY), 28, \"models/cat_not_cat_XX.model\", LeNet, {\"verbose\":0})"
   ]
  },
  {
   "cell_type": "markdown",
   "metadata": {},
   "source": [
    "#### test_network"
   ]
  },
  {
   "cell_type": "code",
   "execution_count": 12,
   "metadata": {},
   "outputs": [],
   "source": [
    "from string import Template\n",
    "import os\n",
    "from imgpred import gvutils\n",
    "\n",
    "def preprocess(img_path, width):\n",
    "    # pre-process the image for classification\n",
    "    image = cv2.imread(img_path)\n",
    "    image = cv2.resize(image, (width, width))\n",
    "    image = image.astype(\"float\") / 255.0\n",
    "    image = img_to_array(image)\n",
    "    # https://docs.scipy.org/doc/numpy-1.13.0/reference/generated/numpy.expand_dims.html\n",
    "    image = np.expand_dims(image, axis=0)\n",
    "    return image\n",
    "\n",
    "def test_network(dataset_path, width, model_path, verbose=1):\n",
    "    # load the trained convolutional neural network\n",
    "    verbose and print(\"[INFO] loading network...\")\n",
    "    model = load_model(model_path)\n",
    "\n",
    "    verbose and print(\"[INFO] testing images...\")\n",
    "    counter = 0\n",
    "    # tableaux de tuples (img_path, pred_label)\n",
    "    imgs = {\"tp\": [],\"tn\": [], \"fp\": [], \"fn\": []}\n",
    "    y_true, y_pred = [], []\n",
    "    for img_path in paths.list_images(dataset_path):\n",
    "        # classify the input image\n",
    "        (not_cat, cat) = model.predict(preprocess(img_path, width))[0]\n",
    "        verbose and print(\"[INFO] {0:.2f} {1:.2f}\".format(not_cat, cat))\n",
    "        img_label = 1 if img_path.split(os.path.sep)[-2] == \"cat\" else 0\n",
    "        y_true.append( img_label )\n",
    "        y_pred.append(1 if cat > not_cat else 0)\n",
    "\n",
    "        # Confusion Matrix for img reporting\n",
    "        conf = \"foo\"\n",
    "        if (cat > not_cat and img_label == 1):\n",
    "            conf = \"tp\"\n",
    "        elif (cat < not_cat and img_label == 0):\n",
    "            conf = \"tn\"\n",
    "        elif (cat > not_cat and img_label == 0):\n",
    "            conf = \"fp\"\n",
    "        elif (cat < not_cat and img_label == 1):\n",
    "            conf = \"fn\"\n",
    "        imgs[conf].append((img_path, gvutils.pred_label(cat, not_cat)))\n",
    "\n",
    "        # Progress bar\n",
    "        counter += 1\n",
    "        verbose and gvutils.print_progress(counter, 0.02)\n",
    "\n",
    "    del model\n",
    "    return (y_true, y_pred, imgs)"
   ]
  },
  {
   "cell_type": "markdown",
   "metadata": {},
   "source": [
    "#### Visualiser le résultat de l'ImageGenerator"
   ]
  },
  {
   "cell_type": "code",
   "execution_count": null,
   "metadata": {},
   "outputs": [],
   "source": [
    "from keras.preprocessing.image import ImageDataGenerator, array_to_img, img_to_array, load_img\n",
    "\n",
    "datagen = ImageDataGenerator(\n",
    "        rotation_range=40,\n",
    "        width_shift_range=0.2,\n",
    "        height_shift_range=0.2,\n",
    "        shear_range=0.2,\n",
    "        zoom_range=0.2,\n",
    "        horizontal_flip=True,\n",
    "        fill_mode='nearest')\n",
    "\n",
    "img = load_img('images/train/cat/cat.0.jpg')  # this is a PIL image\n",
    "x = img_to_array(img)  # this is a Numpy array with shape (3, 150, 150)\n",
    "x = x.reshape((1,) + x.shape)  # this is a Numpy array with shape (1, 3, 150, 150)\n",
    "\n",
    "# the .flow() command below generates batches of randomly transformed images\n",
    "# and saves the results to the `preview/` directory\n",
    "i = 0\n",
    "for batch in datagen.flow(x, batch_size=1,\n",
    "                          save_to_dir='preview', save_prefix='cat', save_format='jpeg'):\n",
    "    i += 1\n",
    "    if i > 7:\n",
    "        break  # otherwise the generator would loop indefinitely"
   ]
  },
  {
   "cell_type": "markdown",
   "metadata": {},
   "source": [
    "<img width=\"100\" src=\"./preview/cat_0_119.jpeg\" style=\"display: inline-block; padding: 5px; border-radius: 5px; box-shadow: -1px 1px 2px 1px #ccc;\">\n",
    "<img width=\"100\" src=\"./preview/cat_0_947.jpeg\" style=\"display: inline-block; padding: 5px; border-radius: 5px; box-shadow: -1px 1px 2px 1px #ccc;\">\n",
    "<img width=\"100\" src=\"./preview/cat_0_1873.jpeg\" style=\"display: inline-block; padding: 5px; border-radius: 5px; box-shadow: -1px 1px 2px 1px #ccc;\">\n",
    "<img width=\"100\" src=\"./preview/cat_0_5203.jpeg\" style=\"display: inline-block; padding: 5px; border-radius: 5px; box-shadow: -1px 1px 2px 1px #ccc;\"><br/>\n",
    "<img width=\"100\" src=\"./preview/cat_0_2955.jpeg\" style=\"display: inline-block; padding: 5px; border-radius: 5px; box-shadow: -1px 1px 2px 1px #ccc;\">\n",
    "<img width=\"100\" src=\"./preview/cat_0_3026.jpeg\" style=\"display: inline-block; padding: 5px; border-radius: 5px; box-shadow: -1px 1px 2px 1px #ccc;\">\n",
    "<img width=\"100\" src=\"./preview/cat_0_9146.jpeg\" style=\"display: inline-block; padding: 5px; border-radius: 5px; box-shadow: -1px 1px 2px 1px #ccc;\">\n",
    "<img width=\"100\" src=\"./preview/cat_0_5535.jpeg\" style=\"display: inline-block; padding: 5px; border-radius: 5px; box-shadow: -1px 1px 2px 1px #ccc;\">"
   ]
  },
  {
   "cell_type": "markdown",
   "metadata": {},
   "source": [
    "## Exploitation"
   ]
  },
  {
   "cell_type": "markdown",
   "metadata": {},
   "source": [
    "### Entrainement\n",
    "\n",
    "#### LeNet"
   ]
  },
  {
   "cell_type": "code",
   "execution_count": 21,
   "metadata": {},
   "outputs": [
    {
     "name": "stdout",
     "output_type": "stream",
     "text": [
      "[INFO] loading images...\n",
      "[INFO] compiling model...\n",
      "[INFO] training network...\n",
      "Epoch 1/25\n",
      "210/210 [==============================] - 6s - loss: 0.6133 - acc: 0.6496 - val_loss: 0.5029 - val_acc: 0.7529\n",
      "Epoch 2/25\n",
      "210/210 [==============================] - 5s - loss: 0.5151 - acc: 0.7422 - val_loss: 0.4395 - val_acc: 0.7987\n",
      "Epoch 3/25\n",
      "210/210 [==============================] - 5s - loss: 0.4933 - acc: 0.7630 - val_loss: 0.4885 - val_acc: 0.7622\n",
      "Epoch 4/25\n",
      "210/210 [==============================] - 5s - loss: 0.4702 - acc: 0.7745 - val_loss: 0.4084 - val_acc: 0.8200\n",
      "Epoch 5/25\n",
      "210/210 [==============================] - 5s - loss: 0.4551 - acc: 0.7842 - val_loss: 0.3749 - val_acc: 0.8338\n",
      "Epoch 6/25\n",
      "210/210 [==============================] - 5s - loss: 0.4272 - acc: 0.8075 - val_loss: 0.4189 - val_acc: 0.8076\n",
      "Epoch 7/25\n",
      "210/210 [==============================] - 5s - loss: 0.4132 - acc: 0.8157 - val_loss: 0.4848 - val_acc: 0.7609\n",
      "Epoch 8/25\n",
      "210/210 [==============================] - 5s - loss: 0.4046 - acc: 0.8202 - val_loss: 0.3865 - val_acc: 0.8253\n",
      "Epoch 9/25\n",
      "210/210 [==============================] - 5s - loss: 0.3891 - acc: 0.8224 - val_loss: 0.3467 - val_acc: 0.8400\n",
      "Epoch 10/25\n",
      "210/210 [==============================] - 5s - loss: 0.3836 - acc: 0.8293 - val_loss: 0.3722 - val_acc: 0.8373\n",
      "Epoch 11/25\n",
      "210/210 [==============================] - 5s - loss: 0.3877 - acc: 0.8263 - val_loss: 0.3650 - val_acc: 0.8467\n",
      "Epoch 12/25\n",
      "210/210 [==============================] - 5s - loss: 0.3835 - acc: 0.8246 - val_loss: 0.3607 - val_acc: 0.8391\n",
      "Epoch 13/25\n",
      "210/210 [==============================] - 5s - loss: 0.3771 - acc: 0.8288 - val_loss: 0.3334 - val_acc: 0.8609\n",
      "Epoch 14/25\n",
      "210/210 [==============================] - 5s - loss: 0.3702 - acc: 0.8342 - val_loss: 0.3776 - val_acc: 0.8307\n",
      "Epoch 15/25\n",
      "210/210 [==============================] - 5s - loss: 0.3657 - acc: 0.8366 - val_loss: 0.3377 - val_acc: 0.8524\n",
      "Epoch 16/25\n",
      "210/210 [==============================] - 5s - loss: 0.3414 - acc: 0.8499 - val_loss: 0.3391 - val_acc: 0.8458\n",
      "Epoch 17/25\n",
      "210/210 [==============================] - 5s - loss: 0.3525 - acc: 0.8428 - val_loss: 0.3722 - val_acc: 0.8387\n",
      "Epoch 18/25\n",
      "210/210 [==============================] - 5s - loss: 0.3478 - acc: 0.8497 - val_loss: 0.3241 - val_acc: 0.8604\n",
      "Epoch 19/25\n",
      "210/210 [==============================] - 5s - loss: 0.3295 - acc: 0.8553 - val_loss: 0.3303 - val_acc: 0.8582\n",
      "Epoch 20/25\n",
      "210/210 [==============================] - 5s - loss: 0.3305 - acc: 0.8582 - val_loss: 0.3220 - val_acc: 0.8658\n",
      "Epoch 21/25\n",
      "210/210 [==============================] - 5s - loss: 0.3343 - acc: 0.8563 - val_loss: 0.3452 - val_acc: 0.8524\n",
      "Epoch 22/25\n",
      "210/210 [==============================] - 5s - loss: 0.3280 - acc: 0.8583 - val_loss: 0.3436 - val_acc: 0.8578\n",
      "Epoch 23/25\n",
      "210/210 [==============================] - 5s - loss: 0.3240 - acc: 0.8571 - val_loss: 0.3548 - val_acc: 0.8511\n",
      "Epoch 24/25\n",
      "210/210 [==============================] - 5s - loss: 0.3118 - acc: 0.8642 - val_loss: 0.3399 - val_acc: 0.8538\n",
      "Epoch 25/25\n",
      "210/210 [==============================] - 5s - loss: 0.3118 - acc: 0.8626 - val_loss: 0.3386 - val_acc: 0.8587\n",
      "[INFO] serializing network...\n"
     ]
    },
    {
     "data": {
      "image/png": "[encoded data removed]",
      "text/plain": [
       "<matplotlib.figure.Figure at 0x17a55d00ef0>"
      ]
     },
     "metadata": {},
     "output_type": "display_data"
    }
   ],
   "source": [
    "from imgpred import gvutils\n",
    "from importlib import reload\n",
    "reload(gvutils)\n",
    "\n",
    "params = {\n",
    "    \"verbose\": 1,\n",
    "    \"BS\": 32,\n",
    "    \"EPOCHS\": 25,\n",
    "    \"dataset_size\": None\n",
    "}\n",
    "\n",
    "# %matplotlib inline\n",
    "try_name = \"lenet_BS32_EP25_28px_9000i\"\n",
    "(N, H) = train_network(\"images/train\", 28, \"models/{0}.model\".format(try_name), LeNet, params)\n",
    "gvutils.print_save_plot(N, H, \"reporting/{0}.png\".format(try_name))\n",
    "#gvutils.imgs_stats(\"images\")"
   ]
  },
  {
   "cell_type": "markdown",
   "metadata": {},
   "source": [
    "#### ConvNet"
   ]
  },
  {
   "cell_type": "code",
   "execution_count": 22,
   "metadata": {},
   "outputs": [
    {
     "name": "stdout",
     "output_type": "stream",
     "text": [
      "[INFO] loading images...\n",
      "[INFO] compiling model...\n",
      "[INFO] training network...\n",
      "Epoch 1/25\n",
      "210/210 [==============================] - 3s - loss: 0.6425 - acc: 0.6197 - val_loss: 0.5594 - val_acc: 0.7347\n",
      "Epoch 2/25\n",
      "210/210 [==============================] - 3s - loss: 0.5678 - acc: 0.7082 - val_loss: 0.5201 - val_acc: 0.7509\n",
      "Epoch 3/25\n",
      "210/210 [==============================] - 3s - loss: 0.5394 - acc: 0.7343 - val_loss: 0.5530 - val_acc: 0.7138\n",
      "Epoch 4/25\n",
      "210/210 [==============================] - 3s - loss: 0.5183 - acc: 0.7476 - val_loss: 0.5034 - val_acc: 0.7593\n",
      "Epoch 5/25\n",
      "210/210 [==============================] - 3s - loss: 0.5014 - acc: 0.7589 - val_loss: 0.6580 - val_acc: 0.6718\n",
      "Epoch 6/25\n",
      "210/210 [==============================] - 3s - loss: 0.4965 - acc: 0.7634 - val_loss: 0.4359 - val_acc: 0.8096\n",
      "Epoch 7/25\n",
      "210/210 [==============================] - 3s - loss: 0.4818 - acc: 0.7740 - val_loss: 0.4394 - val_acc: 0.8096\n",
      "Epoch 8/25\n",
      "210/210 [==============================] - 3s - loss: 0.4767 - acc: 0.7798 - val_loss: 0.4688 - val_acc: 0.7736\n",
      "Epoch 9/25\n",
      "210/210 [==============================] - 3s - loss: 0.4721 - acc: 0.7780 - val_loss: 0.4248 - val_acc: 0.8207\n",
      "Epoch 10/25\n",
      "210/210 [==============================] - 3s - loss: 0.4532 - acc: 0.7936 - val_loss: 0.4063 - val_acc: 0.8307\n",
      "Epoch 11/25\n",
      "210/210 [==============================] - 3s - loss: 0.4569 - acc: 0.7926 - val_loss: 0.4094 - val_acc: 0.8151\n",
      "Epoch 12/25\n",
      "210/210 [==============================] - 3s - loss: 0.4579 - acc: 0.7948 - val_loss: 0.4086 - val_acc: 0.8202\n",
      "Epoch 13/25\n",
      "210/210 [==============================] - 3s - loss: 0.4452 - acc: 0.7971 - val_loss: 0.4455 - val_acc: 0.8049\n",
      "Epoch 14/25\n",
      "210/210 [==============================] - 3s - loss: 0.4508 - acc: 0.7983 - val_loss: 0.4097 - val_acc: 0.8207\n",
      "Epoch 15/25\n",
      "210/210 [==============================] - 3s - loss: 0.4392 - acc: 0.8016 - val_loss: 0.3769 - val_acc: 0.8453\n",
      "Epoch 16/25\n",
      "210/210 [==============================] - 3s - loss: 0.4359 - acc: 0.8043 - val_loss: 0.3980 - val_acc: 0.8236\n",
      "Epoch 17/25\n",
      "210/210 [==============================] - 3s - loss: 0.4317 - acc: 0.8045 - val_loss: 0.3782 - val_acc: 0.8407\n",
      "Epoch 18/25\n",
      "210/210 [==============================] - 3s - loss: 0.4344 - acc: 0.8017 - val_loss: 0.3780 - val_acc: 0.8411\n",
      "Epoch 19/25\n",
      "210/210 [==============================] - 3s - loss: 0.4283 - acc: 0.8076 - val_loss: 0.4022 - val_acc: 0.8302\n",
      "Epoch 20/25\n",
      "210/210 [==============================] - 3s - loss: 0.4253 - acc: 0.8124 - val_loss: 0.3723 - val_acc: 0.8471\n",
      "Epoch 21/25\n",
      "210/210 [==============================] - 3s - loss: 0.4238 - acc: 0.8087 - val_loss: 0.4435 - val_acc: 0.8078\n",
      "Epoch 22/25\n",
      "210/210 [==============================] - 3s - loss: 0.4192 - acc: 0.8148 - val_loss: 0.3687 - val_acc: 0.8440\n",
      "Epoch 23/25\n",
      "210/210 [==============================] - 3s - loss: 0.4238 - acc: 0.8183 - val_loss: 0.4125 - val_acc: 0.8207\n",
      "Epoch 24/25\n",
      "210/210 [==============================] - 3s - loss: 0.4153 - acc: 0.8110 - val_loss: 0.3652 - val_acc: 0.8500\n",
      "Epoch 25/25\n",
      "210/210 [==============================] - 3s - loss: 0.4091 - acc: 0.8180 - val_loss: 0.3530 - val_acc: 0.8513\n",
      "[INFO] serializing network...\n"
     ]
    },
    {
     "data": {
      "image/png": "[encoded data removed]",
      "text/plain": [
       "<matplotlib.figure.Figure at 0x17a5895c240>"
      ]
     },
     "metadata": {},
     "output_type": "display_data"
    }
   ],
   "source": [
    "params = {\n",
    "    \"verbose\": 1,\n",
    "    \"BS\": 32,\n",
    "    \"EPOCHS\": 25,\n",
    "    \"dataset_size\": None,\n",
    "    \"optimizer\": 'rmsprop'\n",
    "}\n",
    "\n",
    "try_name = \"convnet_BS32_EP25_OPT_RMS_28px_9000i\"\n",
    "(N, H) = train_network(\"images/train\", 28, \"models/{0}.model\".format(try_name), ConvNet, params)\n",
    "gvutils.print_save_plot(N, H, \"reporting/{0}.png\".format(try_name))"
   ]
  },
  {
   "cell_type": "markdown",
   "metadata": {},
   "source": [
    "### Evaluation"
   ]
  },
  {
   "cell_type": "code",
   "execution_count": 15,
   "metadata": {},
   "outputs": [
    {
     "name": "stdout",
     "output_type": "stream",
     "text": [
      "Confusion matrix, without normalization\n",
      "[[478  22]\n",
      " [193 307]]\n"
     ]
    },
    {
     "data": {
      "image/png": "[encoded data removed]",
      "text/plain": [
       "<matplotlib.figure.Figure at 0x17a43abac88>"
      ]
     },
     "metadata": {},
     "output_type": "display_data"
    },
    {
     "name": "stdout",
     "output_type": "stream",
     "text": [
      "[INFO] accuracy=0.79\n"
     ]
    }
   ],
   "source": [
    "from imgpred import gvutils\n",
    "# reload(gvutils)\n",
    "# http://scikit-learn.org/stable/modules/generated/sklearn.metrics.confusion_matrix.html\n",
    "from sklearn.metrics import confusion_matrix\n",
    "from sklearn.metrics import accuracy_score\n",
    "\n",
    "# cat_not_cat_28px_2000i\n",
    "# convnet_BS16_EP50_150px_1000i\n",
    "\n",
    "(y_true, y_pred, imgs) = test_network(\"images/eval\", 28, \"models/{0}.model\".format(\"lenet_BS32_EP25_28px_9000i\"), False)\n",
    "cm = confusion_matrix(y_true, y_pred)\n",
    "# https://docs.scipy.org/doc/numpy-1.13.0/reference/generated/numpy.ravel.html\n",
    "tn, fp, fn, tp = cm.ravel()\n",
    "gvutils.plot_confusion_matrix(cm, classes=[\"Not Cat\", \"Cat\"])\n",
    "plt.show()\n",
    "print(\"[INFO] accuracy={:.2f}\".format(accuracy_score(y_true, y_pred)))\n",
    "\n",
    "#print(str(imgs))\n",
    "#gvutils.save_confusion_matrix_samples(imgs, \"reporting/conf_matrix_XX.png\")"
   ]
  },
  {
   "cell_type": "markdown",
   "metadata": {},
   "source": [
    "![matrice de confusion](reporting/conf_matrix_XX.png)"
   ]
  },
  {
   "cell_type": "markdown",
   "metadata": {},
   "source": [
    "La précision annoncée après l'entrainement du modèle est souvent légèrement différente de la précision obtenue sur de nouvelles images."
   ]
  },
  {
   "cell_type": "markdown",
   "metadata": {},
   "source": [
    "# GridSearch\n",
    "\n",
    "## Taille du dataset et taille des images\n",
    "\n",
    "Pour des images de 128px, l'entrainement devient long et on obient régulièrement une **ResourceExhaustedError**. Mais on peut relancer le gridsearch à partir du point qui a échoué."
   ]
  },
  {
   "cell_type": "code",
   "execution_count": null,
   "metadata": {},
   "outputs": [],
   "source": [
    "%load_ext autoreload\n",
    "%autoreload\n",
    "from imgpred import gvutils\n",
    "\n",
    "gridsearch_result_file = \"reporting/gridsearch24012018.json\"\n",
    "histories = []\n",
    "dataset_sizes, img_sizes = range(3000,4000,500), [28, 64, 92]\n",
    "#dataset_sizes, img_sizes = range(500,1000,500), [28,64,128]\n",
    "for dataset_size in dataset_sizes:\n",
    "    #gvutils.create_sets(\"tmp_img\", \"images\", dataset_size)\n",
    "    for img_size in img_sizes:\n",
    "        \"\"\"\n",
    "        Attention il y un biais ici\n",
    "        Les images des ensembles ne seront pas les mêmes parce qu'on doit redimensionner les images\n",
    "        lors du split\n",
    "        \"\"\"\n",
    "        print(\"======== [INFO] img_size:{0}px, dataset_size:{1} ===========\".format(img_size,dataset_size))\n",
    "        (trainX, testX, trainY, testY) = my_train_test_split(\"images/train\", img_size, dataset_size)\n",
    "        (N, H) = train_network(\n",
    "            (trainX, testX, trainY, testY),\n",
    "            img_size, \n",
    "            \"models/cat_not_cat_{0}px_{1}i.model\".format(img_size,dataset_size), \n",
    "            LeNet,\n",
    "            {\"verbose\": 0}\n",
    "        )\n",
    "        #gvutils.print_save_plot(N, H, \"reporting/plot_{0}px_{1}i.png\".format(img_size,dataset_size))\n",
    "        histories.append({\n",
    "           \"img_size\": img_size,\n",
    "            \"dataset_size\": dataset_size,\n",
    "            \"val_loss\": H.history[\"val_loss\"][-1],\n",
    "            \"loss\": H.history[\"loss\"][-1],\n",
    "            \"acc\": H.history[\"acc\"][-1],\n",
    "            \"val_acc\": H.history[\"val_acc\"][-1],\n",
    "        })\n",
    "        gvutils.list_to_file(gridsearch_result_file, [histories[-1]], \"+\")"
   ]
  },
  {
   "cell_type": "markdown",
   "metadata": {},
   "source": [
    "Le résultat du *gridsearch* est stocké dans un fichier json qu'on peut relire ensuite pour afficher les résultats."
   ]
  },
  {
   "cell_type": "code",
   "execution_count": null,
   "metadata": {},
   "outputs": [],
   "source": [
    "dataset_sizes, img_sizes = range(500,3001,500), [28, 64, 128]\n",
    "gvutils.read_matrix(\"reporting/gridsearch23012018.json\", \"reporting/plot_gs24012018.png\", dataset_sizes, img_sizes)"
   ]
  },
  {
   "cell_type": "markdown",
   "metadata": {},
   "source": [
    "![grid_plot](reporting/plot_gs24012018.png)"
   ]
  },
  {
   "cell_type": "markdown",
   "metadata": {},
   "source": [
    "## [Hyper-paramètres Keras](https://machinelearningmastery.com/grid-search-hyperparameters-deep-learning-models-python-keras/)"
   ]
  },
  {
   "cell_type": "code",
   "execution_count": 23,
   "metadata": {},
   "outputs": [
    {
     "name": "stdout",
     "output_type": "stream",
     "text": [
      "[INFO] loading images...\n",
      "[INFO] data split done\n"
     ]
    }
   ],
   "source": [
    "from keras.wrappers.scikit_learn import KerasClassifier\n",
    "from sklearn.model_selection import GridSearchCV\n",
    "\n",
    "# @see https://keras.io/getting-started/faq/#what-does-sample-batch-epoch-mean\n",
    "# initialize the number of epochs to train for, initial learning rate,\n",
    "# and batch size\n",
    "EPOCHS = 25 # training epochs\n",
    "INIT_LR = 1e-3 # initial learning rate\n",
    "BS = 32 # batch size\n",
    "\n",
    "# https://machinelearningmastery.com/grid-search-hyperparameters-deep-learning-models-python-keras/\n",
    "def create_model():\n",
    "    model = LeNet.build()\n",
    "    model.compile(loss=\"binary_crossentropy\", optimizer='adam', metrics=[\"accuracy\"])\n",
    "    return model\n",
    "\n",
    "model = KerasClassifier(build_fn=create_model, epochs=EPOCHS, batch_size=BS, verbose=0)\n",
    "\n",
    "(trainX, testX, trainY, testY) = my_train_test_split(\"images/train\", 28, dataset_size=500)\n",
    "print(\"[INFO] data split done\")\n",
    "\n",
    "# cf. http://cs231n.github.io/neural-networks-3/\n",
    "# define the grid search parameters\n",
    "batch_size = [10, 20, 40, 60, 80, 100]\n",
    "epochs = [10, 50, 100]\n",
    "param_grid = dict(batch_size=batch_size, epochs=epochs)\n",
    "\n",
    "grid = GridSearchCV(estimator=model, param_grid=param_grid, n_jobs=1)"
   ]
  },
  {
   "cell_type": "code",
   "execution_count": 24,
   "metadata": {},
   "outputs": [
    {
     "name": "stdout",
     "output_type": "stream",
     "text": [
      "Best: 0.711230 using {'batch_size': 80, 'epochs': 100}\n",
      "0.676471 (0.038124) with: {'batch_size': 10, 'epochs': 10}\n",
      "0.708556 (0.033871) with: {'batch_size': 10, 'epochs': 50}\n",
      "0.700535 (0.033331) with: {'batch_size': 10, 'epochs': 100}\n",
      "0.636364 (0.014064) with: {'batch_size': 20, 'epochs': 10}\n",
      "0.708556 (0.032813) with: {'batch_size': 20, 'epochs': 50}\n",
      "0.692513 (0.036545) with: {'batch_size': 20, 'epochs': 100}\n",
      "0.692513 (0.022064) with: {'batch_size': 40, 'epochs': 10}\n",
      "0.703209 (0.056607) with: {'batch_size': 40, 'epochs': 50}\n",
      "0.687166 (0.045375) with: {'batch_size': 40, 'epochs': 100}\n",
      "0.596257 (0.044754) with: {'batch_size': 60, 'epochs': 10}\n",
      "0.689840 (0.038390) with: {'batch_size': 60, 'epochs': 50}\n",
      "0.681818 (0.019117) with: {'batch_size': 60, 'epochs': 100}\n",
      "0.631016 (0.032681) with: {'batch_size': 80, 'epochs': 10}\n",
      "0.692513 (0.022231) with: {'batch_size': 80, 'epochs': 50}\n",
      "0.711230 (0.034994) with: {'batch_size': 80, 'epochs': 100}\n",
      "0.681818 (0.067788) with: {'batch_size': 100, 'epochs': 10}\n",
      "0.689840 (0.039331) with: {'batch_size': 100, 'epochs': 50}\n",
      "0.697861 (0.046726) with: {'batch_size': 100, 'epochs': 100}\n"
     ]
    }
   ],
   "source": [
    "grid_result = grid.fit(trainX, trainY)\n",
    "# summarize results\n",
    "print(\"Best: %f using %s\" % (grid_result.best_score_, grid_result.best_params_))\n",
    "means = grid_result.cv_results_['mean_test_score']\n",
    "stds = grid_result.cv_results_['std_test_score']\n",
    "params = grid_result.cv_results_['params']\n",
    "for mean, stdev, param in zip(means, stds, params):\n",
    "    print(\"%f (%f) with: %r\" % (mean, stdev, param))"
   ]
  },
  {
   "cell_type": "markdown",
   "metadata": {},
   "source": [
    "## Résultats\n",
    "\n",
    "### LeNet\n",
    "\n",
    "| N°| Res | Training Set Size (cat/not_cat) | Test Set Size (cat/not_cat) | Accuracy (train/val/eval) | Divers |\n",
    "| --| ----| ------------------| --------------| ---------| -------|\n",
    "| 1 | 28 | 637/637* | 144/530| \\*/\\*/0.66 | BS=25 EPOCHS=32 |\n",
    "| 2 | 28 | 637/626 | 144/530 | \\*/\\*/0.75 ||\n",
    "| 3 | 28 | 637/626 | 144/530 | \\*/\\*/0.77 | tensorflow gpu |\n",
    "| 4 | 64 | 637/626 | 144/530| \\*/\\*/0.77 | tensorflow gpu |\n",
    "| 5 | 28 | 361/361 | 361/361| \\*/\\*/0.79 ||\n",
    "| 6 | 28 | 2295/2295 | 255/255 | \\*/\\*/0.87 |_|\n",
    "| 7 | 28 | 4500/4500 | 500/500 | \\*/0.864/0.88 | BS=25 EPOCHS=32 |\n",
    "| 8 | 28 | 1000/1000 | 500/500 | 0.90/0.825/0.83 | BS=50 EPOCHS=80 |\n",
    "| 9 | 28 | 4500/4500 | 500/500 | 0.92/0.86/0.88 | BS=50 EPOCHS=80 |\n",
    "| 10 | 28 | 500/500 | 500/500 | 0.88/0.78/0.84 | BS=50 EPOCHS=80 |\n",
    "| 11 | 28 | 500/500 | 500/500 | 0.888/0.808/0.83 | BS=50 EPOCHS=80 OPT='rmsprop' |\n",
    "\n",
    "### ConvNet\n",
    "\n",
    "| N°| Res | Training Set Size (cat/not_cat) | Test Set Size (cat/not_cat) | Accuracy (train/val/test) | Divers |\n",
    "| --| ----| ------------------| --------------| ---------| -------|\n",
    "| 1 | 150 | 500/500 | 500/500 | 0.86/0.80/0.83 | BS=16 EPOCHS=50 OPT='rmsprop' |"
   ]
  }
 ],
 "metadata": {
  "kernelspec": {
   "display_name": "Python 3",
   "language": "python",
   "name": "python3"
  },
  "language_info": {
   "codemirror_mode": {
    "name": "ipython",
    "version": 3
   },
   "file_extension": ".py",
   "mimetype": "text/x-python",
   "name": "python",
   "nbconvert_exporter": "python",
   "pygments_lexer": "ipython3",
   "version": "3.6.3"
  }
 },
 "nbformat": 4,
 "nbformat_minor": 2
}
