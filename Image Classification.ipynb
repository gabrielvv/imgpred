{
 "cells": [
  {
   "cell_type": "markdown",
   "metadata": {},
   "source": [
    "# Collecter les données"
   ]
  },
  {
   "cell_type": "code",
   "execution_count": 1,
   "metadata": {},
   "outputs": [
    {
     "data": {
      "application/javascript": [
       "// pull down jquery into the JavaScript console\n",
       "var script = document.createElement('script');\n",
       "script.src = \"https://ajax.googleapis.com/ajax/libs/jquery/2.2.0/jquery.min.js\";\n",
       "document.getElementsByTagName('head')[0].appendChild(script);\n",
       "\n",
       "// grab the URLs\n",
       "var urls = $('.rg_di .rg_meta').map(function() { return JSON.parse($(this).text()).ou; });\n",
       "\n",
       "// write the URls to file (one per line)\n",
       "var textToSave = urls.toArray().join('\\n');\n",
       "var hiddenElement = document.createElement('a');\n",
       "hiddenElement.href = 'data:attachment/text,' + encodeURI(textToSave);\n",
       "hiddenElement.target = '_blank';\n",
       "hiddenElement.download = 'google_urls.txt';\n",
       "hiddenElement.click();"
      ],
      "text/plain": [
       "<IPython.core.display.Javascript object>"
      ]
     },
     "metadata": {},
     "output_type": "display_data"
    }
   ],
   "source": [
    "%%js\n",
    "// pull down jquery into the JavaScript console\n",
    "var script = document.createElement('script');\n",
    "script.src = \"https://ajax.googleapis.com/ajax/libs/jquery/2.2.0/jquery.min.js\";\n",
    "document.getElementsByTagName('head')[0].appendChild(script);\n",
    "\n",
    "// grab the URLs\n",
    "var urls = $('.rg_di .rg_meta').map(function() { return JSON.parse($(this).text()).ou; });\n",
    "\n",
    "// write the URls to file (one per line)\n",
    "var textToSave = urls.toArray().join('\\n');\n",
    "var hiddenElement = document.createElement('a');\n",
    "hiddenElement.href = 'data:attachment/text,' + encodeURI(textToSave);\n",
    "hiddenElement.target = '_blank';\n",
    "hiddenElement.download = 'google_urls.txt';\n",
    "hiddenElement.click();"
   ]
  },
  {
   "cell_type": "code",
   "execution_count": 2,
   "metadata": {},
   "outputs": [],
   "source": [
    "from imutils import paths\n",
    "import requests\n",
    "import os\n",
    "\n",
    "def download_img(urls_path, output_path, prefix=\"img\"):\n",
    "    # grab the list of URLs from the input file, then initialize the\n",
    "    # total number of images downloaded thus far\n",
    "    rows = open(urls_path).read().strip().split(\"\\n\")\n",
    "    total = 0\n",
    "\n",
    "    # loop the URLs\n",
    "    for url in rows:\n",
    "        try:\n",
    "            # try to download the image\n",
    "            r = requests.get(url, timeout=60)\n",
    "\n",
    "            # save the image to disk\n",
    "            p = os.path.sep.join([output_path, \"{}.jpg\".format(\n",
    "                str(total).zfill(5))])\n",
    "            f = open(p, \"wb\") # binary format\n",
    "            f.write(r.content)\n",
    "            f.close()\n",
    "\n",
    "            # update the counter\n",
    "            print(\"[INFO] downloaded: {}\".format(p))\n",
    "            total += 1\n",
    "\n",
    "        # handle if any exceptions are thrown during the download process\n",
    "        except:\n",
    "            print(\"[INFO] error downloading {}...skipping\".format(p))\n",
    "            \n",
    "# download(\"google_urls.txt\", \"tmp_img/cat\", \"google\")"
   ]
  },
  {
   "cell_type": "code",
   "execution_count": 3,
   "metadata": {},
   "outputs": [],
   "source": [
    "from imutils import paths\n",
    "import cv2\n",
    "import os\n",
    "\n",
    "def clean_imgs(directory_path):\n",
    "    # loop over the image paths we just downloaded\n",
    "    for image_path in paths.list_images(directory_path):\n",
    "        # initialize if the image should be deleted or not\n",
    "        delete = False\n",
    "\n",
    "        # try to load the image\n",
    "        try:\n",
    "            image = cv2.imread(image_path)\n",
    "\n",
    "            # if the image is `None` then we could not properly load it\n",
    "            # from disk, so delete it\n",
    "            if image is None:\n",
    "                delete = True\n",
    "\n",
    "        # if OpenCV cannot load the image then the image is likely\n",
    "        # corrupt so we should delete it\n",
    "        except:\n",
    "            print(\"Except\")\n",
    "            delete = True\n",
    "\n",
    "        # check to see if the image should be deleted\n",
    "        if delete:\n",
    "            print(\"[INFO] deleting {}\".format(image_path))\n",
    "            os.remove(image_path)\n",
    "            \n",
    "# clean_imgs(\"tmp_img/cat\")"
   ]
  },
  {
   "cell_type": "markdown",
   "metadata": {},
   "source": [
    "#### Cat\n",
    "\n",
    "| Source | Total |\n",
    "| --------------| -----------|\n",
    "| [google image](q=cat&source=lnms&tbm=isch&sa=X&ved=0ahUKEwi8oKaNw5jYAhWG8RQKHVfoD7kQ_AUICigB&biw=1920&bih=968) | 610 |\n",
    "| [imagenet](www.image-net.org/synset?wnid=n02121620) | 861 |\n",
    "| **total** | 1471 |\n",
    "\n",
    "#### !Cat\n",
    "\n",
    "| Source | Total |\n",
    "| --------------| -----------|\n",
    "| [ukbench](https://archive.org/details/ukbench) | 2550 |"
   ]
  },
  {
   "cell_type": "markdown",
   "metadata": {},
   "source": [
    "#### Nettoyage\n",
    "\n",
    "A la main\n",
    "\n",
    "#### Annotation\n",
    "\n",
    "Le nom du répertoire où on stocke les images fait office d'annotation.\n",
    "Les images de chat sont placées dans un répertoire **cat**.\n",
    "Les images qui ne contiennent pas de chats sont placées dans un répertoire **not_cat**."
   ]
  },
  {
   "cell_type": "code",
   "execution_count": 4,
   "metadata": {},
   "outputs": [],
   "source": [
    "from imgpred import gvutils\n",
    "# Division en 2 sous-ensembles \"train\" et \"test\" de taille égale\n",
    "# gvutils.create_sets(\"tmp_img\", \"images\")"
   ]
  },
  {
   "cell_type": "markdown",
   "metadata": {},
   "source": [
    "# Neural Network\n",
    "\n",
    "## [LeNet](https://www.pyimagesearch.com/2016/08/01/lenet-convolutional-neural-network-in-python/)"
   ]
  },
  {
   "cell_type": "code",
   "execution_count": 5,
   "metadata": {},
   "outputs": [
    {
     "name": "stderr",
     "output_type": "stream",
     "text": [
      "Using TensorFlow backend.\n"
     ]
    }
   ],
   "source": [
    "from keras.models import Sequential\n",
    "from keras.layers.convolutional import Conv2D\n",
    "from keras.layers.convolutional import MaxPooling2D\n",
    "from keras.layers.core import Activation\n",
    "from keras.layers.core import Flatten\n",
    "from keras.layers.core import Dense\n",
    "from keras import backend as K\n",
    "\n",
    "class LeNet:\n",
    "    @staticmethod\n",
    "    def build(width, height, depth, classes):\n",
    "        #initialize the model\n",
    "        model = Sequential()\n",
    "        inputShape = (height, width, depth)\n",
    "\n",
    "        # if we are using 'channels first', update the input shape\n",
    "        if K.image_data_format() == \"channels_first\":\n",
    "            inputShape = (depth, height, width)\n",
    "\n",
    "        # first set of CONV => RELU => POOL layers\n",
    "        model.add(Conv2D(20, (5, 5), padding=\"same\", input_shape=inputShape))\n",
    "        model.add(Activation(\"relu\"))\n",
    "        model.add(MaxPooling2D(pool_size=(2,2), strides=(2,2)))\n",
    "\n",
    "        # second set of CONV => RELU => POOL layers\n",
    "        model.add(Conv2D(50, (5, 5), padding=\"same\"))\n",
    "        model.add(Activation(\"relu\"))\n",
    "        model.add(MaxPooling2D(pool_size=(2, 2), strides=(2, 2)))\n",
    "\n",
    "        # first (and only) set of FC => RELU layers\n",
    "        model.add(Flatten())\n",
    "        model.add(Dense(500))\n",
    "        model.add(Activation(\"relu\"))\n",
    "\n",
    "        # softmax classifier\n",
    "        model.add(Dense(classes))\n",
    "        model.add(Activation(\"softmax\"))\n",
    "\n",
    "        # return the constructed network architecture\n",
    "        return model"
   ]
  },
  {
   "cell_type": "markdown",
   "metadata": {},
   "source": [
    "# Classification"
   ]
  },
  {
   "cell_type": "code",
   "execution_count": 6,
   "metadata": {},
   "outputs": [
    {
     "name": "stderr",
     "output_type": "stream",
     "text": [
      "F:\\Users\\Gabriel\\Anaconda3\\envs\\opencv\\lib\\site-packages\\ipykernel_launcher.py:4: UserWarning: \n",
      "This call to matplotlib.use() has no effect because the backend has already\n",
      "been chosen; matplotlib.use() must be called *before* pylab, matplotlib.pyplot,\n",
      "or matplotlib.backends is imported for the first time.\n",
      "\n",
      "The backend was *originally* set to 'module://ipykernel.pylab.backend_inline' by the following code:\n",
      "  File \"F:\\Users\\Gabriel\\Anaconda3\\envs\\opencv\\lib\\runpy.py\", line 193, in _run_module_as_main\n",
      "    \"__main__\", mod_spec)\n",
      "  File \"F:\\Users\\Gabriel\\Anaconda3\\envs\\opencv\\lib\\runpy.py\", line 85, in _run_code\n",
      "    exec(code, run_globals)\n",
      "  File \"F:\\Users\\Gabriel\\Anaconda3\\envs\\opencv\\lib\\site-packages\\ipykernel_launcher.py\", line 16, in <module>\n",
      "    app.launch_new_instance()\n",
      "  File \"F:\\Users\\Gabriel\\Anaconda3\\envs\\opencv\\lib\\site-packages\\traitlets\\config\\application.py\", line 658, in launch_instance\n",
      "    app.start()\n",
      "  File \"F:\\Users\\Gabriel\\Anaconda3\\envs\\opencv\\lib\\site-packages\\ipykernel\\kernelapp.py\", line 478, in start\n",
      "    self.io_loop.start()\n",
      "  File \"F:\\Users\\Gabriel\\Anaconda3\\envs\\opencv\\lib\\site-packages\\zmq\\eventloop\\ioloop.py\", line 177, in start\n",
      "    super(ZMQIOLoop, self).start()\n",
      "  File \"F:\\Users\\Gabriel\\Anaconda3\\envs\\opencv\\lib\\site-packages\\tornado\\ioloop.py\", line 888, in start\n",
      "    handler_func(fd_obj, events)\n",
      "  File \"F:\\Users\\Gabriel\\Anaconda3\\envs\\opencv\\lib\\site-packages\\tornado\\stack_context.py\", line 277, in null_wrapper\n",
      "    return fn(*args, **kwargs)\n",
      "  File \"F:\\Users\\Gabriel\\Anaconda3\\envs\\opencv\\lib\\site-packages\\zmq\\eventloop\\zmqstream.py\", line 440, in _handle_events\n",
      "    self._handle_recv()\n",
      "  File \"F:\\Users\\Gabriel\\Anaconda3\\envs\\opencv\\lib\\site-packages\\zmq\\eventloop\\zmqstream.py\", line 472, in _handle_recv\n",
      "    self._run_callback(callback, msg)\n",
      "  File \"F:\\Users\\Gabriel\\Anaconda3\\envs\\opencv\\lib\\site-packages\\zmq\\eventloop\\zmqstream.py\", line 414, in _run_callback\n",
      "    callback(*args, **kwargs)\n",
      "  File \"F:\\Users\\Gabriel\\Anaconda3\\envs\\opencv\\lib\\site-packages\\tornado\\stack_context.py\", line 277, in null_wrapper\n",
      "    return fn(*args, **kwargs)\n",
      "  File \"F:\\Users\\Gabriel\\Anaconda3\\envs\\opencv\\lib\\site-packages\\ipykernel\\kernelbase.py\", line 281, in dispatcher\n",
      "    return self.dispatch_shell(stream, msg)\n",
      "  File \"F:\\Users\\Gabriel\\Anaconda3\\envs\\opencv\\lib\\site-packages\\ipykernel\\kernelbase.py\", line 232, in dispatch_shell\n",
      "    handler(stream, idents, msg)\n",
      "  File \"F:\\Users\\Gabriel\\Anaconda3\\envs\\opencv\\lib\\site-packages\\ipykernel\\kernelbase.py\", line 397, in execute_request\n",
      "    user_expressions, allow_stdin)\n",
      "  File \"F:\\Users\\Gabriel\\Anaconda3\\envs\\opencv\\lib\\site-packages\\ipykernel\\ipkernel.py\", line 208, in do_execute\n",
      "    res = shell.run_cell(code, store_history=store_history, silent=silent)\n",
      "  File \"F:\\Users\\Gabriel\\Anaconda3\\envs\\opencv\\lib\\site-packages\\ipykernel\\zmqshell.py\", line 533, in run_cell\n",
      "    return super(ZMQInteractiveShell, self).run_cell(*args, **kwargs)\n",
      "  File \"F:\\Users\\Gabriel\\Anaconda3\\envs\\opencv\\lib\\site-packages\\IPython\\core\\interactiveshell.py\", line 2739, in run_cell\n",
      "    self.events.trigger('post_run_cell')\n",
      "  File \"F:\\Users\\Gabriel\\Anaconda3\\envs\\opencv\\lib\\site-packages\\IPython\\core\\events.py\", line 73, in trigger\n",
      "    func(*args, **kwargs)\n",
      "  File \"F:\\Users\\Gabriel\\Anaconda3\\envs\\opencv\\lib\\site-packages\\ipykernel\\pylab\\backend_inline.py\", line 160, in configure_once\n",
      "    activate_matplotlib(backend)\n",
      "  File \"F:\\Users\\Gabriel\\Anaconda3\\envs\\opencv\\lib\\site-packages\\IPython\\core\\pylabtools.py\", line 308, in activate_matplotlib\n",
      "    matplotlib.pyplot.switch_backend(backend)\n",
      "  File \"F:\\Users\\Gabriel\\Anaconda3\\envs\\opencv\\lib\\site-packages\\matplotlib\\pyplot.py\", line 232, in switch_backend\n",
      "    matplotlib.use(newbackend, warn=False, force=True)\n",
      "  File \"F:\\Users\\Gabriel\\Anaconda3\\envs\\opencv\\lib\\site-packages\\matplotlib\\__init__.py\", line 1305, in use\n",
      "    reload(sys.modules['matplotlib.backends'])\n",
      "  File \"F:\\Users\\Gabriel\\Anaconda3\\envs\\opencv\\lib\\importlib\\__init__.py\", line 166, in reload\n",
      "    _bootstrap._exec(spec, module)\n",
      "  File \"F:\\Users\\Gabriel\\Anaconda3\\envs\\opencv\\lib\\site-packages\\matplotlib\\backends\\__init__.py\", line 14, in <module>\n",
      "    line for line in traceback.format_stack()\n",
      "\n",
      "\n",
      "  after removing the cwd from sys.path.\n"
     ]
    }
   ],
   "source": [
    "# set the matplotlib backend so figures can be saved in the background\n",
    "import matplotlib\n",
    "# @see https://matplotlib.org/glossary/index.html#term-agg\n",
    "matplotlib.use(\"Agg\")\n",
    "%matplotlib inline\n",
    "\n",
    "# import the necessary packages\n",
    "from keras.preprocessing.image import ImageDataGenerator\n",
    "from keras.optimizers import Adam\n",
    "from sklearn.model_selection import train_test_split\n",
    "from keras.preprocessing.image import img_to_array\n",
    "from keras.utils import to_categorical\n",
    "from imutils import paths\n",
    "import matplotlib.pyplot as plt\n",
    "import numpy as np\n",
    "import random\n",
    "import cv2\n",
    "import os\n",
    "\n",
    "from keras.models import load_model\n",
    "import sys"
   ]
  },
  {
   "cell_type": "code",
   "execution_count": 7,
   "metadata": {},
   "outputs": [],
   "source": [
    "def train_network(dataset_path, width, model_path, network_class=LeNet, verbose=1):\n",
    "    # @see https://keras.io/getting-started/faq/#what-does-sample-batch-epoch-mean\n",
    "    # initialize the number of epochs to train for, initial learning rate,\n",
    "    # and batch size\n",
    "    EPOCHS = 25 # training epochs\n",
    "    INIT_LR = 1e-3 # initial learning rate\n",
    "    BS = 32 # batch size\n",
    "    WIDTH = width\n",
    "\n",
    "    # init the data and labels\n",
    "    print(\"[INFO] loading images...\")\n",
    "    data=[]\n",
    "    labels=[]\n",
    "\n",
    "    image_paths = sorted(list(paths.list_images(dataset_path)))\n",
    "    random.seed(42)\n",
    "    random.shuffle(image_paths)\n",
    "\n",
    "    for image_path in image_paths:\n",
    "        img = cv2.imread(image_path)\n",
    "        img = cv2.resize(img, (WIDTH, WIDTH))\n",
    "        img = img_to_array(img)\n",
    "        data.append(img)\n",
    "\n",
    "        # os.path.sep => '\\\\' on Windows\n",
    "        label = image_path.split(os.path.sep)[-2]\n",
    "        label = 1 if label == \"cat\" else 0\n",
    "        labels.append(label)\n",
    "\n",
    "    # scale the raw pixel intensities to the range [0,1]\n",
    "    data = np.array(data, dtype=\"float\") / 255.0\n",
    "    labels = np.array(labels)\n",
    "\n",
    "    # partition the data into training and testing splits using 75% of\n",
    "    # the data for training and the remaining 25% for testing\n",
    "    (trainX, testX, trainY, testY) = train_test_split(data, labels, test_size=0.25, random_state=42)\n",
    "\n",
    "    # convert the labels from integers to vectors\n",
    "    # [0,1,0] => [[1,0], [0,1], [1,0]]\n",
    "    trainY = to_categorical(trainY, num_classes=2)\n",
    "    testY = to_categorical(testY, num_classes=2)\n",
    "\n",
    "    \"\"\"\n",
    "    construct the image generator for data augmentation\n",
    "    @see https://keras.io/preprocessing/image/\n",
    "    \"\"\"\n",
    "    aug = ImageDataGenerator(rotation_range=30, width_shift_range=0.1,\n",
    "    height_shift_range=0.1, shear_range=0.2, zoom_range=0.2,\n",
    "    horizontal_flip=True, fill_mode=\"nearest\")\n",
    "\n",
    "    # init the model\n",
    "    print(\"[INFO] compiling model...\")\n",
    "    model = network_class.build(width=WIDTH, height=WIDTH, depth=3, classes=2)\n",
    "\n",
    "    \"\"\"\n",
    "    https://keras.io/optimizers/#adam\n",
    "    https://arxiv.org/abs/1412.6980v8\n",
    "    \"\"\"\n",
    "    opt = Adam(lr=INIT_LR, decay=INIT_LR / EPOCHS)\n",
    "\n",
    "    \"\"\"\n",
    "    https://keras.io/losses/\n",
    "    https://keras.io/metrics/\n",
    "    https://rdipietro.github.io/friendly-intro-to-cross-entropy-loss/\n",
    "    https://en.wikipedia.org/wiki/Loss_function\n",
    "    \"\"\"\n",
    "    model.compile(loss=\"binary_crossentropy\", optimizer=opt, metrics=[\"accuracy\"])\n",
    "\n",
    "    # train the network\n",
    "    print(\"[INFO] training network...\")\n",
    "    # https://keras.io/models/model/#fit_generator\n",
    "    H = model.fit_generator(aug.flow(trainX, trainY, batch_size=BS), validation_data=(testX, testY),\n",
    "    steps_per_epoch=len(trainX) // BS, epochs=EPOCHS, verbose=verbose)\n",
    "\n",
    "    # save the model to disk\n",
    "    print(\"[INFO] serializing network...\")\n",
    "    model.save(model_path)\n",
    "\n",
    "    return (EPOCHS, H)"
   ]
  },
  {
   "cell_type": "code",
   "execution_count": 19,
   "metadata": {},
   "outputs": [],
   "source": [
    "from string import Template\n",
    "import os\n",
    "from imgpred import gvutils\n",
    "\n",
    "def preprocess(img_path, width):\n",
    "    # pre-process the image for classification\n",
    "    image = cv2.imread(img_path)\n",
    "    image = cv2.resize(image, (width, width))\n",
    "    image = image.astype(\"float\") / 255.0\n",
    "    image = img_to_array(image)\n",
    "    # https://docs.scipy.org/doc/numpy-1.13.0/reference/generated/numpy.expand_dims.html\n",
    "    image = np.expand_dims(image, axis=0)\n",
    "    return image\n",
    "\n",
    "def test_network(dataset_path, width, model_path, verbose=1):\n",
    "    # load the trained convolutional neural network\n",
    "    verbose and print(\"[INFO] loading network...\")\n",
    "    model = load_model(model_path)\n",
    "\n",
    "    verbose and print(\"[INFO] testing images...\")\n",
    "    counter = 0\n",
    "    # tableaux de tuples (img_path, pred_label)\n",
    "    imgs = {\"tp\": [],\"tn\": [], \"fp\": [], \"fn\": []}\n",
    "    y_true, y_pred = [], []\n",
    "    for img_path in paths.list_images(dataset_path):\n",
    "        # classify the input image\n",
    "        (not_cat, cat) = model.predict(preprocess(img_path, width))[0]\n",
    "        verbose and print(\"[INFO] {0:.2f} {1:.2f}\".format(not_cat, cat))\n",
    "        img_label = 1 if img_path.split(os.path.sep)[-2] == \"cat\" else 0\n",
    "        y_true.append( img_label )\n",
    "        y_pred.append(1 if cat > not_cat else 0)\n",
    "\n",
    "        # Confusion Matrix for img reporting\n",
    "        conf = \"foo\"\n",
    "        if (cat > not_cat and img_label == 1):\n",
    "            conf = \"tp\"\n",
    "        elif (cat < not_cat and img_label == 0):\n",
    "            conf = \"tn\"\n",
    "        elif (cat > not_cat and img_label == 0):\n",
    "            conf = \"fp\"\n",
    "        elif (cat < not_cat and img_label == 1):\n",
    "            conf = \"fn\"\n",
    "        imgs[conf].append((img_path, gvutils.pred_label(cat, not_cat)))\n",
    "\n",
    "        # Progress bar\n",
    "        counter += 1\n",
    "        verbose and gvutils.print_progress(counter, 0.02)\n",
    "\n",
    "    return (y_true, y_pred, imgs)"
   ]
  },
  {
   "cell_type": "markdown",
   "metadata": {},
   "source": [
    "## Mise en pratique"
   ]
  },
  {
   "cell_type": "code",
   "execution_count": 10,
   "metadata": {},
   "outputs": [
    {
     "name": "stdout",
     "output_type": "stream",
     "text": [
      "[INFO] loading images...\n",
      "[INFO] compiling model...\n",
      "[INFO] training network...\n",
      "[INFO] serializing network...\n"
     ]
    },
    {
     "data": {
      "image/png": "[encoded data removed]",
      "text/plain": [
       "<matplotlib.figure.Figure at 0x299c2503860>"
      ]
     },
     "metadata": {},
     "output_type": "display_data"
    },
    {
     "data": {
      "image/png": "[encoded data removed]",
      "text/plain": [
       "<matplotlib.figure.Figure at 0x299c2503048>"
      ]
     },
     "metadata": {},
     "output_type": "display_data"
    }
   ],
   "source": [
    "from imgpred import gvutils\n",
    "from importlib import reload\n",
    "reload(gvutils)\n",
    "\n",
    "# %matplotlib inline\n",
    "(N, H) = train_network(\"images/train\", 28, \"models/cat_not_cat_XX.model\", LeNet, 0)\n",
    "gvutils.print_save_plot(N, H, \"reporting/plot_XX.png\")\n",
    "gvutils.imgs_stats(\"images\")"
   ]
  },
  {
   "cell_type": "code",
   "execution_count": 23,
   "metadata": {},
   "outputs": [
    {
     "name": "stdout",
     "output_type": "stream",
     "text": [
      "Confusion matrix, without normalization\n",
      "[[624  98]\n",
      " [206 516]]\n"
     ]
    },
    {
     "data": {
      "image/png": "[encoded data removed]",
      "text/plain": [
       "<matplotlib.figure.Figure at 0x29a4f0c4978>"
      ]
     },
     "metadata": {},
     "output_type": "display_data"
    },
    {
     "name": "stdout",
     "output_type": "stream",
     "text": [
      "[INFO] accuracy=0.79\n"
     ]
    }
   ],
   "source": [
    "from imgpred import gvutils\n",
    "reload(gvutils)\n",
    "# http://scikit-learn.org/stable/modules/generated/sklearn.metrics.confusion_matrix.html\n",
    "from sklearn.metrics import confusion_matrix\n",
    "from sklearn.metrics import accuracy_score\n",
    "\n",
    "(y_true, y_pred, imgs) = test_network(\"images/test\", 28, \"models/cat_not_cat_XX.model\", False)\n",
    "cm = confusion_matrix(y_true, y_pred)\n",
    "# https://docs.scipy.org/doc/numpy-1.13.0/reference/generated/numpy.ravel.html\n",
    "tn, fp, fn, tp = cm.ravel()\n",
    "gvutils.plot_confusion_matrix(cm, classes=[\"Not Cat\", \"Cat\"])\n",
    "plt.show()\n",
    "print(\"[INFO] accuracy={:.2f}\".format(accuracy_score(y_true, y_pred)))\n",
    "\n",
    "#print(str(imgs))\n",
    "gvutils.save_confusion_matrix_samples(imgs, \"reporting/conf_matrix_XX.png\")"
   ]
  },
  {
   "cell_type": "markdown",
   "metadata": {},
   "source": [
    "## TODO\n",
    "\n",
    "* Supprimer les images qui génèrent le message \"iCCP: known incorrect RGB profile\"\n",
    "* Tester test_network par batch de X images (au lieu de 1 à la fois) et évaluer rapidité d'exécution\n",
    "* Comprendre l'architecture LeNet et les étapes de train_network -> faire des schémas\n",
    "* Pour comparer des classifieurs on utilise l'ensemble test1\n",
    " - par exemple pour comparer des classifieurs en faisant varier un paramètre du classifieur pour connaitre la meilleure valeur\n",
    "* Pour évaluer le classifieur séléctionné on utilise l'ensembe test2\n",
    "* Utiliser d'avantage numpy, sklearn, pandas... (dans test_network par exemple)\n",
    "* Packager l'ensemble pour obtenir un projet clés en main\n",
    "* Afficher les valeurs finales obtenues sur les graphes + max/min\n",
    "* Créer un fichier rapport exhaustif de chaque essai (train+test) + images de résultats\n",
    "* A quoi sert le **ImageDataGenerator** ?\n",
    "* Que représente **loss** ?\n",
    "* Que représente **epoch** ?\n",
    "* Pourquoi LeNet ne se stabilise pas atour de la meilleure performance observée lors des itérations?\n",
    "* Expliquer pourquoi la perf annoncée du classifieur après la phase d'entraînement peut différer de celle obtenue lors de la phase d'évaluation\n",
    "* Revoir la structure des fichiers pour qu'il n'y ait pas de confusion entre les ensembles d'images\n",
    "* Comparer les résultats avec différentes tailles / réseaux\n",
    "* Obtenir plus de photos (ideally, 5,000+ example \"Cat\" images)"
   ]
  },
  {
   "cell_type": "code",
   "execution_count": null,
   "metadata": {},
   "outputs": [],
   "source": []
  },
  {
   "cell_type": "code",
   "execution_count": null,
   "metadata": {},
   "outputs": [],
   "source": []
  },
  {
   "cell_type": "code",
   "execution_count": null,
   "metadata": {},
   "outputs": [],
   "source": []
  }
 ],
 "metadata": {
  "kernelspec": {
   "display_name": "Python 3",
   "language": "python",
   "name": "python3"
  },
  "language_info": {
   "codemirror_mode": {
    "name": "ipython",
    "version": 3
   },
   "file_extension": ".py",
   "mimetype": "text/x-python",
   "name": "python",
   "nbconvert_exporter": "python",
   "pygments_lexer": "ipython3",
   "version": "3.6.3"
  }
 },
 "nbformat": 4,
 "nbformat_minor": 2
}
